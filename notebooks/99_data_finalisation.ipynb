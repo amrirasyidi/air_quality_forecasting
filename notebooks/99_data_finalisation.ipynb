{
 "cells": [
  {
   "cell_type": "code",
   "execution_count": 43,
   "metadata": {},
   "outputs": [],
   "source": [
    "import pathlib\n",
    "import os\n",
    "import glob\n",
    "import re\n",
    "import pandas as pd"
   ]
  },
  {
   "cell_type": "code",
   "execution_count": 44,
   "metadata": {},
   "outputs": [],
   "source": [
    "root_dir = pathlib.Path(os.getcwd()).parent\n",
    "raw_data_dir = root_dir / \"data/0_raw\"\n",
    "processed_data_dir = root_dir / \"data/1_processed\"\n",
    "final_data_dir = root_dir / \"data/2_final\""
   ]
  },
  {
   "cell_type": "code",
   "execution_count": 45,
   "metadata": {},
   "outputs": [],
   "source": [
    "unique_station = set([filename.rsplit('_', 1)[0] for filename in os.listdir(final_data_dir)])"
   ]
  },
  {
   "cell_type": "code",
   "execution_count": 42,
   "metadata": {},
   "outputs": [],
   "source": [
    "for station in unique_station:\n",
    "    # List all CSV files in the folder\n",
    "    csv_files = [file for file in os.listdir(final_data_dir) if file.startswith(station)]\n",
    "    \n",
    "    train_csv = [file for file in csv_files if file.endswith('train.csv')][0]\n",
    "    forecast_csv = [file for file in csv_files if file.endswith('forecasted.csv')][0]\n",
    "    \n",
    "    train = pd.read_csv(final_data_dir / train_csv)\n",
    "    train['flag'] = 'train'\n",
    "    \n",
    "    forecasted = pd.read_csv(final_data_dir / forecast_csv)\n",
    "    forecast_col_remap = {col:col.replace('yhat', 'pm25') for col in forecasted.columns if col.startswith('yhat')}\n",
    "    forecast_col_remap[\"ds\"] = \"read_time\"\n",
    "    forecasted = forecasted.rename(columns=forecast_col_remap)\n",
    "    forecasted['flag'] = 'forecasted'\n",
    "    \n",
    "    combined_df = pd.concat([train, forecasted]).drop(columns=['Unnamed: 0'])\n",
    "    \n",
    "    combined_df.to_csv(final_data_dir / f\"{station}.csv\", index=False)"
   ]
  },
  {
   "cell_type": "code",
   "execution_count": null,
   "metadata": {},
   "outputs": [],
   "source": []
  }
 ],
 "metadata": {
  "kernelspec": {
   "display_name": "conda_aqi_forecast",
   "language": "python",
   "name": "python3"
  },
  "language_info": {
   "codemirror_mode": {
    "name": "ipython",
    "version": 3
   },
   "file_extension": ".py",
   "mimetype": "text/x-python",
   "name": "python",
   "nbconvert_exporter": "python",
   "pygments_lexer": "ipython3",
   "version": "3.11.4"
  }
 },
 "nbformat": 4,
 "nbformat_minor": 2
}
