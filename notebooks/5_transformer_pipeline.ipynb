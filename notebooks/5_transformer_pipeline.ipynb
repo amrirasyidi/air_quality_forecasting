{
 "cells": [
  {
   "cell_type": "code",
   "execution_count": 4,
   "metadata": {},
   "outputs": [],
   "source": [
    "import lightning.pytorch as pl"
   ]
  },
  {
   "cell_type": "code",
   "execution_count": null,
   "metadata": {},
   "outputs": [],
   "source": [
    "import pandas as pd\n",
    "import numpy as np"
   ]
  },
  {
   "cell_type": "code",
   "execution_count": null,
   "metadata": {},
   "outputs": [],
   "source": [
    "def encode(data, col):\n",
    "    # https://www.kaggle.com/code/avanwyk/encoding-cyclical-features-for-deep-learning\n",
    "    # https://harrisonpim.com/blog/the-best-way-to-encode-dates-times-and-other-cyclical-features\n",
    "    max_val = data['col'].max()\n",
    "    data[col + '_sin'] = np.sin(2 * np.pi * data[col]/max_val)\n",
    "    data[col + '_cos'] = np.cos(2 * np.pi * data[col]/max_val)\n",
    "    return data"
   ]
  },
  {
   "cell_type": "code",
   "execution_count": 1,
   "metadata": {},
   "outputs": [],
   "source": [
    "# RepeatingBasisFunction from scikit-lego\n",
    "# https://developer.nvidia.com/blog/three-approaches-to-encoding-time-information-as-features-for-ml-models/"
   ]
  },
  {
   "cell_type": "code",
   "execution_count": 6,
   "metadata": {},
   "outputs": [
    {
     "ename": "ModuleNotFoundError",
     "evalue": "No module named 'pytorch_lightning.core.lightning'",
     "output_type": "error",
     "traceback": [
      "\u001b[1;31m---------------------------------------------------------------------------\u001b[0m",
      "\u001b[1;31mModuleNotFoundError\u001b[0m                       Traceback (most recent call last)",
      "\u001b[1;32md:\\0_amri_local\\11_aqi_forecast\\notebooks\\5_transformer_pipeline.ipynb Cell 5\u001b[0m line \u001b[0;36m4\n\u001b[0;32m      <a href='vscode-notebook-cell:/d%3A/0_amri_local/11_aqi_forecast/notebooks/5_transformer_pipeline.ipynb#W3sZmlsZQ%3D%3D?line=0'>1</a>\u001b[0m \u001b[39m# import pandas as pd\u001b[39;00m\n\u001b[0;32m      <a href='vscode-notebook-cell:/d%3A/0_amri_local/11_aqi_forecast/notebooks/5_transformer_pipeline.ipynb#W3sZmlsZQ%3D%3D?line=1'>2</a>\u001b[0m \u001b[39m# import numpy as np\u001b[39;00m\n\u001b[0;32m      <a href='vscode-notebook-cell:/d%3A/0_amri_local/11_aqi_forecast/notebooks/5_transformer_pipeline.ipynb#W3sZmlsZQ%3D%3D?line=2'>3</a>\u001b[0m \u001b[39mimport\u001b[39;00m \u001b[39mtorch\u001b[39;00m\n\u001b[1;32m----> <a href='vscode-notebook-cell:/d%3A/0_amri_local/11_aqi_forecast/notebooks/5_transformer_pipeline.ipynb#W3sZmlsZQ%3D%3D?line=3'>4</a>\u001b[0m \u001b[39mimport\u001b[39;00m \u001b[39mpytorch_forecasting\u001b[39;00m\n\u001b[0;32m      <a href='vscode-notebook-cell:/d%3A/0_amri_local/11_aqi_forecast/notebooks/5_transformer_pipeline.ipynb#W3sZmlsZQ%3D%3D?line=4'>5</a>\u001b[0m \u001b[39m# from pytorch_forecasting import TimeSeriesDataSet, TemporalFusionTransformer, Baseline, QuantileLoss\u001b[39;00m\n\u001b[0;32m      <a href='vscode-notebook-cell:/d%3A/0_amri_local/11_aqi_forecast/notebooks/5_transformer_pipeline.ipynb#W3sZmlsZQ%3D%3D?line=5'>6</a>\u001b[0m \u001b[39m# from pytorch_forecasting.data import GroupNormalizer\u001b[39;00m\n\u001b[0;32m      <a href='vscode-notebook-cell:/d%3A/0_amri_local/11_aqi_forecast/notebooks/5_transformer_pipeline.ipynb#W3sZmlsZQ%3D%3D?line=6'>7</a>\u001b[0m \u001b[39m# from pytorch_forecasting.metrics import SMAPE\u001b[39;00m\n\u001b[0;32m      <a href='vscode-notebook-cell:/d%3A/0_amri_local/11_aqi_forecast/notebooks/5_transformer_pipeline.ipynb#W3sZmlsZQ%3D%3D?line=7'>8</a>\u001b[0m \u001b[39m# from pytorch_forecasting.models.temporal_fusion_transformer.tuning import optimize_hyperparameters\u001b[39;00m\n\u001b[0;32m      <a href='vscode-notebook-cell:/d%3A/0_amri_local/11_aqi_forecast/notebooks/5_transformer_pipeline.ipynb#W3sZmlsZQ%3D%3D?line=8'>9</a>\u001b[0m \u001b[39m# from pytorch_forecasting.data.encoders import NaNLabelEncoder, MultiNormalizer\u001b[39;00m\n\u001b[0;32m     <a href='vscode-notebook-cell:/d%3A/0_amri_local/11_aqi_forecast/notebooks/5_transformer_pipeline.ipynb#W3sZmlsZQ%3D%3D?line=9'>10</a>\u001b[0m \u001b[39m# from pytorch_forecasting.data.encoders import CategoryEmbeddingEncoder, MultiCategoryEncoder\u001b[39;00m\n",
      "File \u001b[1;32mc:\\Users\\arasyidi\\AppData\\Local\\miniconda3\\envs\\conda_aqi_forecast\\Lib\\site-packages\\pytorch_forecasting\\__init__.py:31\u001b[0m\n\u001b[0;32m      4\u001b[0m \u001b[39mfrom\u001b[39;00m \u001b[39mpytorch_forecasting\u001b[39;00m\u001b[39m.\u001b[39;00m\u001b[39mdata\u001b[39;00m \u001b[39mimport\u001b[39;00m (\n\u001b[0;32m      5\u001b[0m     EncoderNormalizer,\n\u001b[0;32m      6\u001b[0m     GroupNormalizer,\n\u001b[1;32m   (...)\u001b[0m\n\u001b[0;32m      9\u001b[0m     TimeSeriesDataSet,\n\u001b[0;32m     10\u001b[0m )\n\u001b[0;32m     11\u001b[0m \u001b[39mfrom\u001b[39;00m \u001b[39mpytorch_forecasting\u001b[39;00m\u001b[39m.\u001b[39;00m\u001b[39mmetrics\u001b[39;00m \u001b[39mimport\u001b[39;00m (\n\u001b[0;32m     12\u001b[0m     MAE,\n\u001b[0;32m     13\u001b[0m     MAPE,\n\u001b[1;32m   (...)\u001b[0m\n\u001b[0;32m     29\u001b[0m     QuantileLoss,\n\u001b[0;32m     30\u001b[0m )\n\u001b[1;32m---> 31\u001b[0m \u001b[39mfrom\u001b[39;00m \u001b[39mpytorch_forecasting\u001b[39;00m\u001b[39m.\u001b[39;00m\u001b[39mmodels\u001b[39;00m \u001b[39mimport\u001b[39;00m (\n\u001b[0;32m     32\u001b[0m     GRU,\n\u001b[0;32m     33\u001b[0m     LSTM,\n\u001b[0;32m     34\u001b[0m     AutoRegressiveBaseModel,\n\u001b[0;32m     35\u001b[0m     AutoRegressiveBaseModelWithCovariates,\n\u001b[0;32m     36\u001b[0m     Baseline,\n\u001b[0;32m     37\u001b[0m     BaseModel,\n\u001b[0;32m     38\u001b[0m     BaseModelWithCovariates,\n\u001b[0;32m     39\u001b[0m     DecoderMLP,\n\u001b[0;32m     40\u001b[0m     DeepAR,\n\u001b[0;32m     41\u001b[0m     MultiEmbedding,\n\u001b[0;32m     42\u001b[0m     NBeats,\n\u001b[0;32m     43\u001b[0m     NHiTS,\n\u001b[0;32m     44\u001b[0m     RecurrentNetwork,\n\u001b[0;32m     45\u001b[0m     TemporalFusionTransformer,\n\u001b[0;32m     46\u001b[0m     get_rnn,\n\u001b[0;32m     47\u001b[0m )\n\u001b[0;32m     48\u001b[0m \u001b[39mfrom\u001b[39;00m \u001b[39mpytorch_forecasting\u001b[39;00m\u001b[39m.\u001b[39;00m\u001b[39mutils\u001b[39;00m \u001b[39mimport\u001b[39;00m (\n\u001b[0;32m     49\u001b[0m     apply_to_list,\n\u001b[0;32m     50\u001b[0m     autocorrelation,\n\u001b[1;32m   (...)\u001b[0m\n\u001b[0;32m     59\u001b[0m     unpack_sequence,\n\u001b[0;32m     60\u001b[0m )\n\u001b[0;32m     62\u001b[0m __all__ \u001b[39m=\u001b[39m [\n\u001b[0;32m     63\u001b[0m     \u001b[39m\"\u001b[39m\u001b[39mTimeSeriesDataSet\u001b[39m\u001b[39m\"\u001b[39m,\n\u001b[0;32m     64\u001b[0m     \u001b[39m\"\u001b[39m\u001b[39mGroupNormalizer\u001b[39m\u001b[39m\"\u001b[39m,\n\u001b[1;32m   (...)\u001b[0m\n\u001b[0;32m    111\u001b[0m     \u001b[39m\"\u001b[39m\u001b[39munpack_sequence\u001b[39m\u001b[39m\"\u001b[39m,\n\u001b[0;32m    112\u001b[0m ]\n",
      "File \u001b[1;32mc:\\Users\\arasyidi\\AppData\\Local\\miniconda3\\envs\\conda_aqi_forecast\\Lib\\site-packages\\pytorch_forecasting\\models\\__init__.py:11\u001b[0m\n\u001b[0;32m      4\u001b[0m \u001b[39mfrom\u001b[39;00m \u001b[39mpytorch_forecasting\u001b[39;00m\u001b[39m.\u001b[39;00m\u001b[39mmodels\u001b[39;00m\u001b[39m.\u001b[39;00m\u001b[39mbase_model\u001b[39;00m \u001b[39mimport\u001b[39;00m (\n\u001b[0;32m      5\u001b[0m     AutoRegressiveBaseModel,\n\u001b[0;32m      6\u001b[0m     AutoRegressiveBaseModelWithCovariates,\n\u001b[0;32m      7\u001b[0m     BaseModel,\n\u001b[0;32m      8\u001b[0m     BaseModelWithCovariates,\n\u001b[0;32m      9\u001b[0m )\n\u001b[0;32m     10\u001b[0m \u001b[39mfrom\u001b[39;00m \u001b[39mpytorch_forecasting\u001b[39;00m\u001b[39m.\u001b[39;00m\u001b[39mmodels\u001b[39;00m\u001b[39m.\u001b[39;00m\u001b[39mbaseline\u001b[39;00m \u001b[39mimport\u001b[39;00m Baseline\n\u001b[1;32m---> 11\u001b[0m \u001b[39mfrom\u001b[39;00m \u001b[39mpytorch_forecasting\u001b[39;00m\u001b[39m.\u001b[39;00m\u001b[39mmodels\u001b[39;00m\u001b[39m.\u001b[39;00m\u001b[39mdeepar\u001b[39;00m \u001b[39mimport\u001b[39;00m DeepAR\n\u001b[0;32m     12\u001b[0m \u001b[39mfrom\u001b[39;00m \u001b[39mpytorch_forecasting\u001b[39;00m\u001b[39m.\u001b[39;00m\u001b[39mmodels\u001b[39;00m\u001b[39m.\u001b[39;00m\u001b[39mmlp\u001b[39;00m \u001b[39mimport\u001b[39;00m DecoderMLP\n\u001b[0;32m     13\u001b[0m \u001b[39mfrom\u001b[39;00m \u001b[39mpytorch_forecasting\u001b[39;00m\u001b[39m.\u001b[39;00m\u001b[39mmodels\u001b[39;00m\u001b[39m.\u001b[39;00m\u001b[39mnbeats\u001b[39;00m \u001b[39mimport\u001b[39;00m NBeats\n",
      "File \u001b[1;32mc:\\Users\\arasyidi\\AppData\\Local\\miniconda3\\envs\\conda_aqi_forecast\\Lib\\site-packages\\pytorch_forecasting\\models\\deepar\\__init__.py:13\u001b[0m\n\u001b[0;32m     11\u001b[0m \u001b[39mimport\u001b[39;00m \u001b[39mnumpy\u001b[39;00m \u001b[39mas\u001b[39;00m \u001b[39mnp\u001b[39;00m\n\u001b[0;32m     12\u001b[0m \u001b[39mimport\u001b[39;00m \u001b[39mpandas\u001b[39;00m \u001b[39mas\u001b[39;00m \u001b[39mpd\u001b[39;00m\n\u001b[1;32m---> 13\u001b[0m \u001b[39mfrom\u001b[39;00m \u001b[39mpytorch_lightning\u001b[39;00m\u001b[39m.\u001b[39;00m\u001b[39mcore\u001b[39;00m\u001b[39m.\u001b[39;00m\u001b[39mlightning\u001b[39;00m \u001b[39mimport\u001b[39;00m LightningModule\n\u001b[0;32m     14\u001b[0m \u001b[39mimport\u001b[39;00m \u001b[39mtorch\u001b[39;00m\n\u001b[0;32m     15\u001b[0m \u001b[39mimport\u001b[39;00m \u001b[39mtorch\u001b[39;00m\u001b[39m.\u001b[39;00m\u001b[39mdistributions\u001b[39;00m \u001b[39mas\u001b[39;00m \u001b[39mdists\u001b[39;00m\n",
      "\u001b[1;31mModuleNotFoundError\u001b[0m: No module named 'pytorch_lightning.core.lightning'"
     ]
    }
   ],
   "source": [
    "# import pandas as pd\n",
    "# import numpy as np\n",
    "import torch\n",
    "from pytorch_forecasting import TimeSeriesDataSet, TemporalFusionTransformer, Baseline, QuantileLoss\n",
    "# from pytorch_forecasting.data import GroupNormalizer\n",
    "# from pytorch_forecasting.metrics import SMAPE\n",
    "# from pytorch_forecasting.models.temporal_fusion_transformer.tuning import optimize_hyperparameters\n",
    "# from pytorch_forecasting.data.encoders import NaNLabelEncoder, MultiNormalizer\n",
    "# from pytorch_forecasting.data.encoders import CategoryEmbeddingEncoder, MultiCategoryEncoder"
   ]
  },
  {
   "cell_type": "code",
   "execution_count": null,
   "metadata": {},
   "outputs": [],
   "source": []
  }
 ],
 "metadata": {
  "kernelspec": {
   "display_name": "conda_aqi_forecast",
   "language": "python",
   "name": "python3"
  },
  "language_info": {
   "codemirror_mode": {
    "name": "ipython",
    "version": 3
   },
   "file_extension": ".py",
   "mimetype": "text/x-python",
   "name": "python",
   "nbconvert_exporter": "python",
   "pygments_lexer": "ipython3",
   "version": "3.11.4"
  },
  "orig_nbformat": 4
 },
 "nbformat": 4,
 "nbformat_minor": 2
}
