{
 "cells": [
  {
   "cell_type": "code",
   "execution_count": 58,
   "metadata": {},
   "outputs": [],
   "source": [
    "import os\n",
    "import pathlib\n",
    "import numpy as np\n",
    "import pandas as pd\n",
    "from tqdm.auto import tqdm\n",
    "from datetime import datetime, timedelta\n",
    "import matplotlib.pyplot as plt\n",
    "# import seaborn as sns\n",
    "# import plotly.graph_objs as go\n",
    "# from plotly.offline import download_plotlyjs, init_notebook_mode, plot, iplot\n",
    "\n",
    "import torch\n",
    "import torch.nn as nn\n",
    "import torch.nn.functional as F\n",
    "import torch.optim as optim\n",
    "from torch.utils.data import Dataset, DataLoader"
   ]
  },
  {
   "cell_type": "code",
   "execution_count": 2,
   "metadata": {},
   "outputs": [],
   "source": [
    "root_dir = pathlib.Path(os.getcwd()).parent\n",
    "data_dir = root_dir / \"data\""
   ]
  },
  {
   "cell_type": "markdown",
   "metadata": {},
   "source": [
    "# Data Loading"
   ]
  },
  {
   "cell_type": "code",
   "execution_count": 97,
   "metadata": {},
   "outputs": [
    {
     "data": {
      "text/html": [
       "<div>\n",
       "<style scoped>\n",
       "    .dataframe tbody tr th:only-of-type {\n",
       "        vertical-align: middle;\n",
       "    }\n",
       "\n",
       "    .dataframe tbody tr th {\n",
       "        vertical-align: top;\n",
       "    }\n",
       "\n",
       "    .dataframe thead th {\n",
       "        text-align: right;\n",
       "    }\n",
       "</style>\n",
       "<table border=\"1\" class=\"dataframe\">\n",
       "  <thead>\n",
       "    <tr style=\"text-align: right;\">\n",
       "      <th></th>\n",
       "      <th>Unnamed: 0</th>\n",
       "      <th>SiteEngName</th>\n",
       "      <th>sn</th>\n",
       "      <th>AMB_TEMP</th>\n",
       "      <th>CH4</th>\n",
       "      <th>CO</th>\n",
       "      <th>NMHC</th>\n",
       "      <th>NO</th>\n",
       "      <th>NO2</th>\n",
       "      <th>NOx</th>\n",
       "      <th>...</th>\n",
       "      <th>WIND_DIREC</th>\n",
       "      <th>WIND_SPEED</th>\n",
       "      <th>WIND_cos</th>\n",
       "      <th>WIND_sin</th>\n",
       "      <th>WS_HR</th>\n",
       "      <th>W_HR_cos</th>\n",
       "      <th>W_HR_sin</th>\n",
       "      <th>lat</th>\n",
       "      <th>lon</th>\n",
       "      <th>read_time</th>\n",
       "    </tr>\n",
       "  </thead>\n",
       "  <tbody>\n",
       "    <tr>\n",
       "      <th>0</th>\n",
       "      <td>1</td>\n",
       "      <td>Annan</td>\n",
       "      <td>安南</td>\n",
       "      <td>16.5</td>\n",
       "      <td>2.1</td>\n",
       "      <td>0.61</td>\n",
       "      <td>0.12</td>\n",
       "      <td>1.2</td>\n",
       "      <td>17.0</td>\n",
       "      <td>18.0</td>\n",
       "      <td>...</td>\n",
       "      <td>354.0</td>\n",
       "      <td>1.9</td>\n",
       "      <td>1.889592</td>\n",
       "      <td>-0.198604</td>\n",
       "      <td>1.9</td>\n",
       "      <td>1.895372e+00</td>\n",
       "      <td>-0.132537</td>\n",
       "      <td>(23.04, 23.05)</td>\n",
       "      <td>(120.21, 120.22)</td>\n",
       "      <td>2018/1/1 00:00:00</td>\n",
       "    </tr>\n",
       "    <tr>\n",
       "      <th>1</th>\n",
       "      <td>2</td>\n",
       "      <td>Banqiao</td>\n",
       "      <td>板橋</td>\n",
       "      <td>16.1</td>\n",
       "      <td>1.9</td>\n",
       "      <td>0.37</td>\n",
       "      <td>0.07</td>\n",
       "      <td>0.9</td>\n",
       "      <td>9.8</td>\n",
       "      <td>11.0</td>\n",
       "      <td>...</td>\n",
       "      <td>81.0</td>\n",
       "      <td>1.7</td>\n",
       "      <td>0.265939</td>\n",
       "      <td>1.679070</td>\n",
       "      <td>1.4</td>\n",
       "      <td>8.570000e-17</td>\n",
       "      <td>1.400000</td>\n",
       "      <td>(25.01, 25.02)</td>\n",
       "      <td>(121.45, 121.46)</td>\n",
       "      <td>2018/1/1 00:00:00</td>\n",
       "    </tr>\n",
       "    <tr>\n",
       "      <th>2</th>\n",
       "      <td>3</td>\n",
       "      <td>Cailiao</td>\n",
       "      <td>菜寮</td>\n",
       "      <td>15.8</td>\n",
       "      <td>0.0</td>\n",
       "      <td>0.35</td>\n",
       "      <td>0.00</td>\n",
       "      <td>0.4</td>\n",
       "      <td>10.0</td>\n",
       "      <td>10.0</td>\n",
       "      <td>...</td>\n",
       "      <td>91.0</td>\n",
       "      <td>2.3</td>\n",
       "      <td>-0.040141</td>\n",
       "      <td>2.299650</td>\n",
       "      <td>2.7</td>\n",
       "      <td>-1.413071e-01</td>\n",
       "      <td>2.696300</td>\n",
       "      <td>(25.06, 25.07)</td>\n",
       "      <td>(121.48, 121.49)</td>\n",
       "      <td>2018/1/1 00:00:00</td>\n",
       "    </tr>\n",
       "    <tr>\n",
       "      <th>3</th>\n",
       "      <td>4</td>\n",
       "      <td>Changhua</td>\n",
       "      <td>彰化</td>\n",
       "      <td>16.0</td>\n",
       "      <td>1.9</td>\n",
       "      <td>0.40</td>\n",
       "      <td>0.11</td>\n",
       "      <td>0.9</td>\n",
       "      <td>9.8</td>\n",
       "      <td>11.0</td>\n",
       "      <td>...</td>\n",
       "      <td>5.2</td>\n",
       "      <td>4.2</td>\n",
       "      <td>4.182714</td>\n",
       "      <td>0.380657</td>\n",
       "      <td>3.9</td>\n",
       "      <td>3.893919e+00</td>\n",
       "      <td>0.217704</td>\n",
       "      <td>(24.06, 24.07)</td>\n",
       "      <td>(120.54, 120.55)</td>\n",
       "      <td>2018/1/1 00:00:00</td>\n",
       "    </tr>\n",
       "    <tr>\n",
       "      <th>4</th>\n",
       "      <td>5</td>\n",
       "      <td>Chaozhou</td>\n",
       "      <td>潮州</td>\n",
       "      <td>18.0</td>\n",
       "      <td>0.0</td>\n",
       "      <td>0.93</td>\n",
       "      <td>0.00</td>\n",
       "      <td>1.2</td>\n",
       "      <td>17.0</td>\n",
       "      <td>18.0</td>\n",
       "      <td>...</td>\n",
       "      <td>49.0</td>\n",
       "      <td>1.1</td>\n",
       "      <td>0.721665</td>\n",
       "      <td>0.830181</td>\n",
       "      <td>0.8</td>\n",
       "      <td>6.709365e-01</td>\n",
       "      <td>0.435711</td>\n",
       "      <td>(22.52, 22.53)</td>\n",
       "      <td>(120.56, 120.57)</td>\n",
       "      <td>2018/1/1 00:00:00</td>\n",
       "    </tr>\n",
       "  </tbody>\n",
       "</table>\n",
       "<p>5 rows × 31 columns</p>\n",
       "</div>"
      ],
      "text/plain": [
       "   Unnamed: 0 SiteEngName  sn  AMB_TEMP  CH4    CO  NMHC   NO   NO2   NOx  \\\n",
       "0           1       Annan  安南      16.5  2.1  0.61  0.12  1.2  17.0  18.0   \n",
       "1           2     Banqiao  板橋      16.1  1.9  0.37  0.07  0.9   9.8  11.0   \n",
       "2           3     Cailiao  菜寮      15.8  0.0  0.35  0.00  0.4  10.0  10.0   \n",
       "3           4    Changhua  彰化      16.0  1.9  0.40  0.11  0.9   9.8  11.0   \n",
       "4           5    Chaozhou  潮州      18.0  0.0  0.93  0.00  1.2  17.0  18.0   \n",
       "\n",
       "   ...  WIND_DIREC  WIND_SPEED  WIND_cos  WIND_sin  WS_HR      W_HR_cos  \\\n",
       "0  ...       354.0         1.9  1.889592 -0.198604    1.9  1.895372e+00   \n",
       "1  ...        81.0         1.7  0.265939  1.679070    1.4  8.570000e-17   \n",
       "2  ...        91.0         2.3 -0.040141  2.299650    2.7 -1.413071e-01   \n",
       "3  ...         5.2         4.2  4.182714  0.380657    3.9  3.893919e+00   \n",
       "4  ...        49.0         1.1  0.721665  0.830181    0.8  6.709365e-01   \n",
       "\n",
       "   W_HR_sin             lat               lon          read_time  \n",
       "0 -0.132537  (23.04, 23.05)  (120.21, 120.22)  2018/1/1 00:00:00  \n",
       "1  1.400000  (25.01, 25.02)  (121.45, 121.46)  2018/1/1 00:00:00  \n",
       "2  2.696300  (25.06, 25.07)  (121.48, 121.49)  2018/1/1 00:00:00  \n",
       "3  0.217704  (24.06, 24.07)  (120.54, 120.55)  2018/1/1 00:00:00  \n",
       "4  0.435711  (22.52, 22.53)  (120.56, 120.57)  2018/1/1 00:00:00  \n",
       "\n",
       "[5 rows x 31 columns]"
      ]
     },
     "execution_count": 97,
     "metadata": {},
     "output_type": "execute_result"
    }
   ],
   "source": [
    "data = pd.read_csv(data_dir / \"epa_tw_18.csv\")\n",
    "data.head()"
   ]
  },
  {
   "cell_type": "code",
   "execution_count": 98,
   "metadata": {},
   "outputs": [
    {
     "data": {
      "text/plain": [
       "Index(['Unnamed: 0', 'SiteEngName', 'sn', 'AMB_TEMP', 'CH4', 'CO', 'NMHC',\n",
       "       'NO', 'NO2', 'NOx', 'O3', 'PH_RAIN', 'PM10', 'PM2.5', 'RAINFALL',\n",
       "       'RAIN_COND', 'RH', 'SO2', 'THC', 'UVB', 'WD_HR', 'WIND_DIREC',\n",
       "       'WIND_SPEED', 'WIND_cos', 'WIND_sin', 'WS_HR', 'W_HR_cos', 'W_HR_sin',\n",
       "       'lat', 'lon', 'read_time'],\n",
       "      dtype='object')"
      ]
     },
     "execution_count": 98,
     "metadata": {},
     "output_type": "execute_result"
    }
   ],
   "source": [
    "data.columns"
   ]
  },
  {
   "cell_type": "code",
   "execution_count": 99,
   "metadata": {},
   "outputs": [
    {
     "data": {
      "text/plain": [
       "array(['Annan', 'Banqiao', 'Cailiao', 'Changhua', 'Chaozhou', 'Chiayi',\n",
       "       'Dali', 'Daliao', 'Datong', 'Dayuan', 'Dongshan', 'Douliu',\n",
       "       'Erlin', 'Fengshan', 'Fengyuan', 'Fuxing', 'Guanshan', 'Guanyin',\n",
       "       'Guting', 'Hengchun', 'Hsinchu', 'Hualien', 'Hukou', 'Keelung',\n",
       "       'Kinmen', 'Linkou', 'Linyuan', 'Longtan', 'Lunbei', 'Magong',\n",
       "       'Mailiao', 'Matsu', 'Meinong', 'Miaoli', 'Nantou', 'Nanzi',\n",
       "       'Pingtung', 'Pingzhen', 'Puli', 'Puzi', 'Qianjin', 'Qianzhen',\n",
       "       'Qiaotou', 'Renwu', 'Sanchong', 'Sanyi', 'Shalu', 'Shanhua',\n",
       "       'Shilin', 'Songshan', 'Tainan', 'Taitung', 'Taixi', 'Tamsui',\n",
       "       'Taoyuan', 'Toufen', 'Tucheng', 'Wanhua', 'Wanli', 'Xianxi',\n",
       "       'Xiaogang', 'Xindian', 'Xingang', 'Xinying', 'Xinzhuang', 'Xitun',\n",
       "       'Xizhi', 'Yangming', 'Yilan', 'Yonghe', 'Zhongli', 'Zhongming',\n",
       "       'Zhongshan', 'Zhudong', 'Zhushan', 'Zuoying'], dtype=object)"
      ]
     },
     "execution_count": 99,
     "metadata": {},
     "output_type": "execute_result"
    }
   ],
   "source": [
    "data.SiteEngName.unique()"
   ]
  },
  {
   "cell_type": "code",
   "execution_count": 100,
   "metadata": {},
   "outputs": [
    {
     "data": {
      "text/html": [
       "<div>\n",
       "<style scoped>\n",
       "    .dataframe tbody tr th:only-of-type {\n",
       "        vertical-align: middle;\n",
       "    }\n",
       "\n",
       "    .dataframe tbody tr th {\n",
       "        vertical-align: top;\n",
       "    }\n",
       "\n",
       "    .dataframe thead th {\n",
       "        text-align: right;\n",
       "    }\n",
       "</style>\n",
       "<table border=\"1\" class=\"dataframe\">\n",
       "  <thead>\n",
       "    <tr style=\"text-align: right;\">\n",
       "      <th></th>\n",
       "      <th>SiteEngName</th>\n",
       "      <th>PM2.5</th>\n",
       "      <th>AMB_TEMP</th>\n",
       "      <th>CH4</th>\n",
       "      <th>CO</th>\n",
       "      <th>NMHC</th>\n",
       "      <th>read_time</th>\n",
       "    </tr>\n",
       "  </thead>\n",
       "  <tbody>\n",
       "    <tr>\n",
       "      <th>0</th>\n",
       "      <td>Annan</td>\n",
       "      <td>42.0</td>\n",
       "      <td>16.5</td>\n",
       "      <td>2.1</td>\n",
       "      <td>0.61</td>\n",
       "      <td>0.12</td>\n",
       "      <td>2018/1/1 00:00:00</td>\n",
       "    </tr>\n",
       "    <tr>\n",
       "      <th>1</th>\n",
       "      <td>Banqiao</td>\n",
       "      <td>20.0</td>\n",
       "      <td>16.1</td>\n",
       "      <td>1.9</td>\n",
       "      <td>0.37</td>\n",
       "      <td>0.07</td>\n",
       "      <td>2018/1/1 00:00:00</td>\n",
       "    </tr>\n",
       "    <tr>\n",
       "      <th>2</th>\n",
       "      <td>Cailiao</td>\n",
       "      <td>16.0</td>\n",
       "      <td>15.8</td>\n",
       "      <td>0.0</td>\n",
       "      <td>0.35</td>\n",
       "      <td>0.00</td>\n",
       "      <td>2018/1/1 00:00:00</td>\n",
       "    </tr>\n",
       "    <tr>\n",
       "      <th>3</th>\n",
       "      <td>Changhua</td>\n",
       "      <td>55.0</td>\n",
       "      <td>16.0</td>\n",
       "      <td>1.9</td>\n",
       "      <td>0.40</td>\n",
       "      <td>0.11</td>\n",
       "      <td>2018/1/1 00:00:00</td>\n",
       "    </tr>\n",
       "    <tr>\n",
       "      <th>4</th>\n",
       "      <td>Chaozhou</td>\n",
       "      <td>115.0</td>\n",
       "      <td>18.0</td>\n",
       "      <td>0.0</td>\n",
       "      <td>0.93</td>\n",
       "      <td>0.00</td>\n",
       "      <td>2018/1/1 00:00:00</td>\n",
       "    </tr>\n",
       "  </tbody>\n",
       "</table>\n",
       "</div>"
      ],
      "text/plain": [
       "  SiteEngName  PM2.5  AMB_TEMP  CH4    CO  NMHC          read_time\n",
       "0       Annan   42.0      16.5  2.1  0.61  0.12  2018/1/1 00:00:00\n",
       "1     Banqiao   20.0      16.1  1.9  0.37  0.07  2018/1/1 00:00:00\n",
       "2     Cailiao   16.0      15.8  0.0  0.35  0.00  2018/1/1 00:00:00\n",
       "3    Changhua   55.0      16.0  1.9  0.40  0.11  2018/1/1 00:00:00\n",
       "4    Chaozhou  115.0      18.0  0.0  0.93  0.00  2018/1/1 00:00:00"
      ]
     },
     "execution_count": 100,
     "metadata": {},
     "output_type": "execute_result"
    }
   ],
   "source": [
    "pm25 = data[[\n",
    "    \"SiteEngName\",\n",
    "    \"PM2.5\",\n",
    "    \"AMB_TEMP\",\n",
    "    \"CH4\",\n",
    "    'CO',\n",
    "    \"NMHC\",\n",
    "    # \"lon\",\n",
    "    # \"lat\",\n",
    "    \"read_time\"\n",
    "    ]]\n",
    "pm25.head()"
   ]
  },
  {
   "cell_type": "code",
   "execution_count": 141,
   "metadata": {},
   "outputs": [],
   "source": [
    "pm25_cailiao = pm25[pm25['SiteEngName'] == \"Banqiao\"]\n",
    "\n",
    "# simplify the column names\n",
    "# remove non alpha numeric, convert all to lowercase\n",
    "col_name_mapping = {_: ''.join(filter(str.isalnum, _)).lower() for _ in pm25_cailiao.columns}\n",
    "pm25_cailiao = pm25_cailiao.rename(columns=col_name_mapping)\n",
    "\n",
    "# convert column data type\n",
    "pm25_cailiao['readtime'] = pd.to_datetime(pm25_cailiao['readtime'])\n",
    "\n",
    "# sort the dataframe based on readtime\n",
    "pm25_cailiao = pm25_cailiao.sort_values(by=\"readtime\")"
   ]
  },
  {
   "cell_type": "code",
   "execution_count": 142,
   "metadata": {},
   "outputs": [
    {
     "name": "stdout",
     "output_type": "stream",
     "text": [
      "time difference is always: 0 days 01:00:00\n"
     ]
    }
   ],
   "source": [
    "# make sure the time diff is always constant\n",
    "pm25_cailiao['time_diff'] = pm25_cailiao['readtime'].diff()\n",
    "time_diff_list = pm25_cailiao['time_diff'].unique().dropna()\n",
    "\n",
    "if len(time_diff_list) > 1:\n",
    "    print(f\"{time_diff_list.unique()}\")\n",
    "else:\n",
    "    print(f\"time difference is always: {time_diff_list[0]}\")\n",
    "    pm25_cailiao = pm25_cailiao.drop(columns=[\"time_diff\"])\n",
    "    pm25_cailiao.head()"
   ]
  },
  {
   "cell_type": "code",
   "execution_count": 143,
   "metadata": {},
   "outputs": [
    {
     "data": {
      "image/png": "[encoded data removed]",
      "text/plain": [
       "<Figure size 2000x500 with 1 Axes>"
      ]
     },
     "metadata": {},
     "output_type": "display_data"
    }
   ],
   "source": [
    "fig, ax = plt.subplots(figsize = (20,5))\n",
    "\n",
    "ax.plot(\n",
    "    pm25_cailiao['readtime'], \n",
    "    pm25_cailiao['pm25'], \n",
    "    # marker='o', \n",
    "    linestyle='-', \n",
    "    color='b'\n",
    "    )\n",
    "plt.title('PM2.5 Levels Over Time')\n",
    "plt.xlabel('Time')\n",
    "plt.ylabel('PM2.5')\n",
    "plt.xticks(rotation=45)\n",
    "plt.grid(True)\n",
    "plt.tight_layout()"
   ]
  },
  {
   "cell_type": "markdown",
   "metadata": {},
   "source": [
    "# Training"
   ]
  },
  {
   "cell_type": "markdown",
   "metadata": {},
   "source": [
    "## Define Training Dataset"
   ]
  },
  {
   "cell_type": "code",
   "execution_count": 144,
   "metadata": {},
   "outputs": [
    {
     "name": "stdout",
     "output_type": "stream",
     "text": [
      "All data length:8760 \n",
      "Train data length:5256\n"
     ]
    },
    {
     "data": {
      "text/html": [
       "<div>\n",
       "<style scoped>\n",
       "    .dataframe tbody tr th:only-of-type {\n",
       "        vertical-align: middle;\n",
       "    }\n",
       "\n",
       "    .dataframe tbody tr th {\n",
       "        vertical-align: top;\n",
       "    }\n",
       "\n",
       "    .dataframe thead th {\n",
       "        text-align: right;\n",
       "    }\n",
       "</style>\n",
       "<table border=\"1\" class=\"dataframe\">\n",
       "  <thead>\n",
       "    <tr style=\"text-align: right;\">\n",
       "      <th></th>\n",
       "      <th>siteengname</th>\n",
       "      <th>pm25</th>\n",
       "      <th>ambtemp</th>\n",
       "      <th>ch4</th>\n",
       "      <th>co</th>\n",
       "      <th>nmhc</th>\n",
       "      <th>readtime</th>\n",
       "    </tr>\n",
       "  </thead>\n",
       "  <tbody>\n",
       "    <tr>\n",
       "      <th>399077</th>\n",
       "      <td>Banqiao</td>\n",
       "      <td>11.0</td>\n",
       "      <td>31.4</td>\n",
       "      <td>1.8</td>\n",
       "      <td>0.41</td>\n",
       "      <td>0.13</td>\n",
       "      <td>2018-08-07 19:00:00</td>\n",
       "    </tr>\n",
       "    <tr>\n",
       "      <th>399153</th>\n",
       "      <td>Banqiao</td>\n",
       "      <td>11.0</td>\n",
       "      <td>30.8</td>\n",
       "      <td>1.8</td>\n",
       "      <td>0.35</td>\n",
       "      <td>0.10</td>\n",
       "      <td>2018-08-07 20:00:00</td>\n",
       "    </tr>\n",
       "    <tr>\n",
       "      <th>399229</th>\n",
       "      <td>Banqiao</td>\n",
       "      <td>10.0</td>\n",
       "      <td>30.4</td>\n",
       "      <td>1.8</td>\n",
       "      <td>0.31</td>\n",
       "      <td>0.09</td>\n",
       "      <td>2018-08-07 21:00:00</td>\n",
       "    </tr>\n",
       "    <tr>\n",
       "      <th>399305</th>\n",
       "      <td>Banqiao</td>\n",
       "      <td>8.0</td>\n",
       "      <td>30.2</td>\n",
       "      <td>1.8</td>\n",
       "      <td>0.30</td>\n",
       "      <td>0.08</td>\n",
       "      <td>2018-08-07 22:00:00</td>\n",
       "    </tr>\n",
       "    <tr>\n",
       "      <th>399381</th>\n",
       "      <td>Banqiao</td>\n",
       "      <td>9.0</td>\n",
       "      <td>29.9</td>\n",
       "      <td>1.8</td>\n",
       "      <td>0.23</td>\n",
       "      <td>0.06</td>\n",
       "      <td>2018-08-07 23:00:00</td>\n",
       "    </tr>\n",
       "  </tbody>\n",
       "</table>\n",
       "</div>"
      ],
      "text/plain": [
       "       siteengname  pm25  ambtemp  ch4    co  nmhc            readtime\n",
       "399077     Banqiao  11.0     31.4  1.8  0.41  0.13 2018-08-07 19:00:00\n",
       "399153     Banqiao  11.0     30.8  1.8  0.35  0.10 2018-08-07 20:00:00\n",
       "399229     Banqiao  10.0     30.4  1.8  0.31  0.09 2018-08-07 21:00:00\n",
       "399305     Banqiao   8.0     30.2  1.8  0.30  0.08 2018-08-07 22:00:00\n",
       "399381     Banqiao   9.0     29.9  1.8  0.23  0.06 2018-08-07 23:00:00"
      ]
     },
     "execution_count": 144,
     "metadata": {},
     "output_type": "execute_result"
    }
   ],
   "source": [
    "train_split = 0.6\n",
    "\n",
    "train_data = pm25_cailiao.iloc[:int(len(pm25_cailiao)*train_split),:]\n",
    "print(f\"All data length:{len(pm25_cailiao)} \\nTrain data length:{len(train_data)}\")\n",
    "train_data.tail()"
   ]
  },
  {
   "cell_type": "code",
   "execution_count": 145,
   "metadata": {},
   "outputs": [],
   "source": [
    "# min_pm = train_data['pm25'].min()\n",
    "# max_pm = train_data['pm25'].max()\n",
    "\n",
    "# print(f\"PM2.5 Minimum: {min_pm}\\nPM2.5 Minimum: {max_pm}\")"
   ]
  },
  {
   "cell_type": "code",
   "execution_count": 146,
   "metadata": {},
   "outputs": [
    {
     "name": "stderr",
     "output_type": "stream",
     "text": [
      "C:\\Users\\arasyidi\\AppData\\Local\\Temp\\ipykernel_30480\\3021661121.py:9: SettingWithCopyWarning: \n",
      "A value is trying to be set on a copy of a slice from a DataFrame.\n",
      "Try using .loc[row_indexer,col_indexer] = value instead\n",
      "\n",
      "See the caveats in the documentation: https://pandas.pydata.org/pandas-docs/stable/user_guide/indexing.html#returning-a-view-versus-a-copy\n",
      "  train_data[normalized_column_name] = (train_data[column] - train_data[column].min()) / (train_data[column].max() - train_data[column].min())\n",
      "C:\\Users\\arasyidi\\AppData\\Local\\Temp\\ipykernel_30480\\3021661121.py:9: SettingWithCopyWarning: \n",
      "A value is trying to be set on a copy of a slice from a DataFrame.\n",
      "Try using .loc[row_indexer,col_indexer] = value instead\n",
      "\n",
      "See the caveats in the documentation: https://pandas.pydata.org/pandas-docs/stable/user_guide/indexing.html#returning-a-view-versus-a-copy\n",
      "  train_data[normalized_column_name] = (train_data[column] - train_data[column].min()) / (train_data[column].max() - train_data[column].min())\n",
      "C:\\Users\\arasyidi\\AppData\\Local\\Temp\\ipykernel_30480\\3021661121.py:9: SettingWithCopyWarning: \n",
      "A value is trying to be set on a copy of a slice from a DataFrame.\n",
      "Try using .loc[row_indexer,col_indexer] = value instead\n",
      "\n",
      "See the caveats in the documentation: https://pandas.pydata.org/pandas-docs/stable/user_guide/indexing.html#returning-a-view-versus-a-copy\n",
      "  train_data[normalized_column_name] = (train_data[column] - train_data[column].min()) / (train_data[column].max() - train_data[column].min())\n",
      "C:\\Users\\arasyidi\\AppData\\Local\\Temp\\ipykernel_30480\\3021661121.py:9: SettingWithCopyWarning: \n",
      "A value is trying to be set on a copy of a slice from a DataFrame.\n",
      "Try using .loc[row_indexer,col_indexer] = value instead\n",
      "\n",
      "See the caveats in the documentation: https://pandas.pydata.org/pandas-docs/stable/user_guide/indexing.html#returning-a-view-versus-a-copy\n",
      "  train_data[normalized_column_name] = (train_data[column] - train_data[column].min()) / (train_data[column].max() - train_data[column].min())\n",
      "C:\\Users\\arasyidi\\AppData\\Local\\Temp\\ipykernel_30480\\3021661121.py:9: SettingWithCopyWarning: \n",
      "A value is trying to be set on a copy of a slice from a DataFrame.\n",
      "Try using .loc[row_indexer,col_indexer] = value instead\n",
      "\n",
      "See the caveats in the documentation: https://pandas.pydata.org/pandas-docs/stable/user_guide/indexing.html#returning-a-view-versus-a-copy\n",
      "  train_data[normalized_column_name] = (train_data[column] - train_data[column].min()) / (train_data[column].max() - train_data[column].min())\n"
     ]
    }
   ],
   "source": [
    "# normalization\n",
    "# train_data.loc[:, 'pm25_n'] = (train_data['pm25'] - min_pm) / (max_pm- min_pm)\n",
    "\n",
    "# Calculate the normalized columns and create new columns with them\n",
    "normalized_columns = ['pm25', 'ambtemp', 'ch4', 'co', 'nmhc']\n",
    "\n",
    "for column in normalized_columns:\n",
    "    normalized_column_name = column + '_normalized'\n",
    "    train_data[normalized_column_name] = (train_data[column] - train_data[column].min()) / (train_data[column].max() - train_data[column].min())"
   ]
  },
  {
   "cell_type": "code",
   "execution_count": 147,
   "metadata": {},
   "outputs": [],
   "source": [
    "class MarketDataset(Dataset):\n",
    "    \n",
    "    def __init__(self, data, history_len):\n",
    "        self.data = data\n",
    "        self.history_len = history_len\n",
    "        \n",
    "    def __len__(self):\n",
    "        self.len = len(self.data) - self.history_len  \n",
    "        return self.len\n",
    "    \n",
    "    def __getitem__(self, index):\n",
    "        x_cols = ['pm25_normalized', 'ambtemp_normalized', 'ch4_normalized', 'co_normalized', 'nmhc_normalized']\n",
    "        y_cols = ['pm25_normalized']\n",
    "        x = self.data.iloc[index: index+self.history_len, :][x_cols].values\n",
    "        y = self.data.iloc[index+self.history_len, :][y_cols].values.astype('float')\n",
    "        x = torch.tensor(x).float()\n",
    "        y = torch.tensor(y).float()\n",
    "        return x, y"
   ]
  },
  {
   "cell_type": "code",
   "execution_count": 148,
   "metadata": {},
   "outputs": [
    {
     "name": "stdout",
     "output_type": "stream",
     "text": [
      "5208\n",
      "torch.Size([48, 5]) torch.Size([1])\n"
     ]
    }
   ],
   "source": [
    "# verify dataset instances\n",
    "train_dataset = MarketDataset(train_data, history_len=48)\n",
    "print(len(train_dataset))\n",
    "x, y = train_dataset[0]\n",
    "print(x.shape, y.shape)"
   ]
  },
  {
   "cell_type": "code",
   "execution_count": 149,
   "metadata": {},
   "outputs": [
    {
     "name": "stdout",
     "output_type": "stream",
     "text": [
      "torch.Size([4, 48, 5]) torch.Size([4, 1])\n"
     ]
    }
   ],
   "source": [
    "# train data_loader\n",
    "train_data_loader = DataLoader(train_dataset, batch_size=4)\n",
    "X, Y = next(iter(train_data_loader))\n",
    "print(X.shape, Y.shape)"
   ]
  },
  {
   "cell_type": "code",
   "execution_count": 151,
   "metadata": {},
   "outputs": [],
   "source": [
    "class LSTNet(nn.Module):\n",
    "    \n",
    "    def __init__(self):\n",
    "        super(LSTNet, self).__init__()\n",
    "        self.num_features = 5\n",
    "        self.conv1_out_channels = 32 \n",
    "        self.conv1_kernel_height = 7\n",
    "        self.recc1_out_channels = 64 \n",
    "        self.skip_steps = [4, 24] \n",
    "        self.skip_reccs_out_channels = [4, 4] \n",
    "        self.output_out_features = 1\n",
    "        self.ar_window_size = 7\n",
    "        self.dropout = nn.Dropout(p = 0.2)\n",
    "       \n",
    "        \n",
    "        self.conv1 = nn.Conv2d(1, self.conv1_out_channels, \n",
    "                               kernel_size=(self.conv1_kernel_height, self.num_features))\n",
    "        self.recc1 = nn.GRU(self.conv1_out_channels, self.recc1_out_channels, batch_first=True)\n",
    "        self.skip_reccs = {}\n",
    "        for i in range(len(self.skip_steps)):\n",
    "            self.skip_reccs[i] = nn.GRU(self.conv1_out_channels, self.skip_reccs_out_channels[i], batch_first=True)\n",
    "        self.output_in_features = self.recc1_out_channels + np.dot(self.skip_steps, self.skip_reccs_out_channels)\n",
    "        self.output = nn.Linear(self.output_in_features, self.output_out_features)\n",
    "        if self.ar_window_size > 0:\n",
    "            self.ar = nn.Linear(self.ar_window_size, 1)\n",
    "        \n",
    "    def forward(self, X):\n",
    "        \"\"\"\n",
    "        Parameters:\n",
    "        X (tensor) [batch_size, time_steps, num_features]\n",
    "        \"\"\"\n",
    "        batch_size = X.size(0)\n",
    "        \n",
    "        # Convolutional Layer\n",
    "        C = X.unsqueeze(1) # [batch_size, num_channels=1, time_steps, num_features]\n",
    "        C = F.relu(self.conv1(C)) # [batch_size, conv1_out_channels, shrinked_time_steps, 1]\n",
    "        C = self.dropout(C)\n",
    "        C = torch.squeeze(C, 3) # [batch_size, conv1_out_channels, shrinked_time_steps]\n",
    "        \n",
    "        # Recurrent Layer\n",
    "        R = C.permute(0, 2, 1) # [batch_size, shrinked_time_steps, conv1_out_channels]\n",
    "        out, hidden = self.recc1(R) # [batch_size, shrinked_time_steps, recc_out_channels]\n",
    "        R = out[:, -1, :] # [batch_size, recc_out_channels]\n",
    "        R = self.dropout(R)\n",
    "        #print(R.shape)\n",
    "        \n",
    "        # Skip Recurrent Layers\n",
    "        shrinked_time_steps = C.size(2)\n",
    "        for i in range(len(self.skip_steps)):\n",
    "            skip_step = self.skip_steps[i]\n",
    "            skip_sequence_len = shrinked_time_steps // skip_step\n",
    "            # shrinked_time_steps shrinked further\n",
    "            S = C[:, :, -skip_sequence_len*skip_step:] # [batch_size, conv1_out_channels, shrinked_time_steps]\n",
    "            S = S.view(S.size(0), S.size(1), skip_sequence_len, skip_step) # [batch_size, conv1_out_channels, skip_sequence_len, skip_step=num_skip_components]\n",
    "            # note that num_skip_components = skip_step\n",
    "            S = S.permute(0, 3, 2, 1).contiguous() # [batch_size, skip_step=num_skip_components, skip_sequence_len, conv1_out_channels]\n",
    "            S = S.view(S.size(0)*S.size(1), S.size(2), S.size(3))  # [batch_size*num_skip_components, skip_sequence_len, conv1_out_channels]\n",
    "            out, hidden = self.skip_reccs[i](S) # [batch_size*num_skip_components, skip_sequence_len, skip_reccs_out_channels[i]]\n",
    "            S = out[:, -1, :] # [batch_size*num_skip_components, skip_reccs_out_channels[i]]\n",
    "            S = S.view(batch_size, skip_step*S.size(1)) # [batch_size, num_skip_components*skip_reccs_out_channels[i]]\n",
    "            S = self.dropout(S)\n",
    "            R = torch.cat((R, S), 1) # [batch_size, recc_out_channels + skip_reccs_out_channels * num_skip_components]\n",
    "            #print(S.shape)\n",
    "        #print(R.shape)\n",
    "        \n",
    "        # Output Layer\n",
    "        O = F.relu(self.output(R)) # [batch_size, output_out_features=1]\n",
    "        \n",
    "        if self.ar_window_size > 0:\n",
    "            # set dim3 based on output_out_features\n",
    "            AR = X[:, -self.ar_window_size:, 3:4] # [batch_size, ar_window_size, output_out_features=1]\n",
    "            AR = AR.permute(0, 2, 1).contiguous() # [batch_size, output_out_features, ar_window_size]\n",
    "            AR = self.ar(AR) # [batch_size, output_out_features, 1]\n",
    "            AR = AR.squeeze(2) # [batch_size, output_out_features]\n",
    "            O = O + AR\n",
    "        \n",
    "        return O"
   ]
  },
  {
   "cell_type": "code",
   "execution_count": 152,
   "metadata": {},
   "outputs": [
    {
     "name": "stdout",
     "output_type": "stream",
     "text": [
      "torch.Size([4, 48, 5])\n",
      "torch.Size([4, 1]) torch.Size([4, 1])\n"
     ]
    }
   ],
   "source": [
    "# test model\n",
    "model = LSTNet()\n",
    "\n",
    "for X, Y in train_data_loader:\n",
    "    print(X.shape)\n",
    "    out = model(X)\n",
    "    print(Y.shape, out.shape)\n",
    "    break"
   ]
  },
  {
   "cell_type": "code",
   "execution_count": 154,
   "metadata": {},
   "outputs": [],
   "source": [
    "history_len = 48\n",
    "batch_size = 8 \n",
    "\n",
    "epochs = 10\n",
    "\n",
    "lr = 0.01\n",
    "weight_decay = 0.01"
   ]
  },
  {
   "cell_type": "code",
   "execution_count": 155,
   "metadata": {},
   "outputs": [],
   "source": [
    "train_dataset = MarketDataset(train_data, history_len=history_len)\n",
    "train_data_loader = DataLoader(train_dataset, batch_size=batch_size, shuffle=True)\n",
    "\n",
    "model = LSTNet()\n",
    "\n",
    "criterion = nn.MSELoss()\n",
    "optimizer = optim.Adam(model.parameters(), lr=lr, weight_decay=weight_decay)"
   ]
  },
  {
   "cell_type": "code",
   "execution_count": 157,
   "metadata": {},
   "outputs": [
    {
     "data": {
      "application/vnd.jupyter.widget-view+json": {
       "model_id": "e5f93f1ac29b434d9af273e43200c220",
       "version_major": 2,
       "version_minor": 0
      },
      "text/plain": [
       "  0%|          | 0/10 [00:00<?, ?it/s]"
      ]
     },
     "metadata": {},
     "output_type": "display_data"
    },
    {
     "data": {
      "application/vnd.jupyter.widget-view+json": {
       "model_id": "e5ca5315d29248509ce2adf21f2177f5",
       "version_major": 2,
       "version_minor": 0
      },
      "text/plain": [
       "Train:   0%|          | 0/651 [00:00<?, ?it/s]"
      ]
     },
     "metadata": {},
     "output_type": "display_data"
    },
    {
     "data": {
      "application/vnd.jupyter.widget-view+json": {
       "model_id": "4d46a9e5e8c24159a366aa77c27f5e7d",
       "version_major": 2,
       "version_minor": 0
      },
      "text/plain": [
       "Train:   0%|          | 0/651 [00:00<?, ?it/s]"
      ]
     },
     "metadata": {},
     "output_type": "display_data"
    },
    {
     "data": {
      "application/vnd.jupyter.widget-view+json": {
       "model_id": "daf82c1b213c4980987846b118d3041f",
       "version_major": 2,
       "version_minor": 0
      },
      "text/plain": [
       "Train:   0%|          | 0/651 [00:00<?, ?it/s]"
      ]
     },
     "metadata": {},
     "output_type": "display_data"
    },
    {
     "data": {
      "application/vnd.jupyter.widget-view+json": {
       "model_id": "3f4d5196cc34477d9a13351e85593887",
       "version_major": 2,
       "version_minor": 0
      },
      "text/plain": [
       "Train:   0%|          | 0/651 [00:00<?, ?it/s]"
      ]
     },
     "metadata": {},
     "output_type": "display_data"
    },
    {
     "data": {
      "application/vnd.jupyter.widget-view+json": {
       "model_id": "bda5f4c15b004e4db6b898abd06c2b8c",
       "version_major": 2,
       "version_minor": 0
      },
      "text/plain": [
       "Train:   0%|          | 0/651 [00:00<?, ?it/s]"
      ]
     },
     "metadata": {},
     "output_type": "display_data"
    },
    {
     "data": {
      "application/vnd.jupyter.widget-view+json": {
       "model_id": "65bd842d4e5241e98d85230ad723b3d1",
       "version_major": 2,
       "version_minor": 0
      },
      "text/plain": [
       "Train:   0%|          | 0/651 [00:00<?, ?it/s]"
      ]
     },
     "metadata": {},
     "output_type": "display_data"
    },
    {
     "data": {
      "application/vnd.jupyter.widget-view+json": {
       "model_id": "547bc8eb0e9c4e07811ad09271b7657c",
       "version_major": 2,
       "version_minor": 0
      },
      "text/plain": [
       "Train:   0%|          | 0/651 [00:00<?, ?it/s]"
      ]
     },
     "metadata": {},
     "output_type": "display_data"
    },
    {
     "data": {
      "application/vnd.jupyter.widget-view+json": {
       "model_id": "f0bfded79ca1466f8ecc80a1f82cbfbb",
       "version_major": 2,
       "version_minor": 0
      },
      "text/plain": [
       "Train:   0%|          | 0/651 [00:00<?, ?it/s]"
      ]
     },
     "metadata": {},
     "output_type": "display_data"
    },
    {
     "data": {
      "application/vnd.jupyter.widget-view+json": {
       "model_id": "d95a35f10b9741889868c9e855b42170",
       "version_major": 2,
       "version_minor": 0
      },
      "text/plain": [
       "Train:   0%|          | 0/651 [00:00<?, ?it/s]"
      ]
     },
     "metadata": {},
     "output_type": "display_data"
    },
    {
     "data": {
      "application/vnd.jupyter.widget-view+json": {
       "model_id": "3ece1351eace4da1923694c4992fbe83",
       "version_major": 2,
       "version_minor": 0
      },
      "text/plain": [
       "Train:   0%|          | 0/651 [00:00<?, ?it/s]"
      ]
     },
     "metadata": {},
     "output_type": "display_data"
    }
   ],
   "source": [
    "train_loss_list = []\n",
    "for epoch in tqdm(range(epochs)):\n",
    "    \n",
    "    epoch_loss_train = 0\n",
    "    for i, batch in tqdm(enumerate(train_data_loader, start=1), \n",
    "                         leave=False, desc=\"Train\", total=len(train_data_loader)):\n",
    "            \n",
    "        X, Y = batch\n",
    "        optimizer.zero_grad()\n",
    "        Y_pred = model(X)\n",
    "        loss = criterion(Y_pred, Y)\n",
    "        loss.backward()\n",
    "        optimizer.step()\n",
    "        \n",
    "        with open('Running-Loss.txt', 'a+') as file:\n",
    "            file.write(f'{loss.item()}\\n')\n",
    "        epoch_loss_train += loss.item()\n",
    "        \n",
    "    epoch_loss_train = epoch_loss_train / len(train_data_loader)\n",
    "    train_loss_list.append(epoch_loss_train)\n",
    "    \n",
    "    with open('Epoch-Loss.txt', 'a+') as file:\n",
    "        file.write(f'{epoch_loss_train}\\n')"
   ]
  },
  {
   "cell_type": "code",
   "execution_count": 159,
   "metadata": {},
   "outputs": [],
   "source": [
    "model_name = f\"LSTNet-E{epochs}\"\n",
    "model_path = f\"{model_name}.pth\"\n",
    "torch.save(model.state_dict(), model_path)"
   ]
  },
  {
   "cell_type": "code",
   "execution_count": 160,
   "metadata": {},
   "outputs": [
    {
     "data": {
      "text/plain": [
       "LSTNet(\n",
       "  (dropout): Dropout(p=0.2, inplace=False)\n",
       "  (conv1): Conv2d(1, 32, kernel_size=(7, 5), stride=(1, 1))\n",
       "  (recc1): GRU(32, 64, batch_first=True)\n",
       "  (output): Linear(in_features=176, out_features=1, bias=True)\n",
       "  (ar): Linear(in_features=7, out_features=1, bias=True)\n",
       ")"
      ]
     },
     "execution_count": 160,
     "metadata": {},
     "output_type": "execute_result"
    }
   ],
   "source": [
    "model_name = f\"LSTNet-E{epochs}\"\n",
    "model_path = f\"{model_name}.pth\"\n",
    "model = LSTNet()\n",
    "model.load_state_dict(torch.load(model_path))\n",
    "model.eval()"
   ]
  },
  {
   "cell_type": "code",
   "execution_count": 165,
   "metadata": {},
   "outputs": [
    {
     "data": {
      "text/plain": [
       "LSTNet(\n",
       "  (dropout): Dropout(p=0.2, inplace=False)\n",
       "  (conv1): Conv2d(1, 32, kernel_size=(7, 5), stride=(1, 1))\n",
       "  (recc1): GRU(32, 64, batch_first=True)\n",
       "  (output): Linear(in_features=176, out_features=1, bias=True)\n",
       "  (ar): Linear(in_features=7, out_features=1, bias=True)\n",
       ")"
      ]
     },
     "execution_count": 165,
     "metadata": {},
     "output_type": "execute_result"
    }
   ],
   "source": [
    "model"
   ]
  },
  {
   "cell_type": "code",
   "execution_count": 167,
   "metadata": {},
   "outputs": [
    {
     "name": "stdout",
     "output_type": "stream",
     "text": [
      "All data length:8760 \n",
      "Train data length:3504\n"
     ]
    },
    {
     "data": {
      "text/html": [
       "<div>\n",
       "<style scoped>\n",
       "    .dataframe tbody tr th:only-of-type {\n",
       "        vertical-align: middle;\n",
       "    }\n",
       "\n",
       "    .dataframe tbody tr th {\n",
       "        vertical-align: top;\n",
       "    }\n",
       "\n",
       "    .dataframe thead th {\n",
       "        text-align: right;\n",
       "    }\n",
       "</style>\n",
       "<table border=\"1\" class=\"dataframe\">\n",
       "  <thead>\n",
       "    <tr style=\"text-align: right;\">\n",
       "      <th></th>\n",
       "      <th>siteengname</th>\n",
       "      <th>pm25</th>\n",
       "      <th>ambtemp</th>\n",
       "      <th>ch4</th>\n",
       "      <th>co</th>\n",
       "      <th>nmhc</th>\n",
       "      <th>readtime</th>\n",
       "    </tr>\n",
       "  </thead>\n",
       "  <tbody>\n",
       "    <tr>\n",
       "      <th>399457</th>\n",
       "      <td>Banqiao</td>\n",
       "      <td>9.0</td>\n",
       "      <td>29.8</td>\n",
       "      <td>1.8</td>\n",
       "      <td>0.18</td>\n",
       "      <td>0.05</td>\n",
       "      <td>2018-08-08 00:00:00</td>\n",
       "    </tr>\n",
       "    <tr>\n",
       "      <th>399533</th>\n",
       "      <td>Banqiao</td>\n",
       "      <td>7.0</td>\n",
       "      <td>29.8</td>\n",
       "      <td>1.8</td>\n",
       "      <td>0.15</td>\n",
       "      <td>0.07</td>\n",
       "      <td>2018-08-08 01:00:00</td>\n",
       "    </tr>\n",
       "    <tr>\n",
       "      <th>399609</th>\n",
       "      <td>Banqiao</td>\n",
       "      <td>7.0</td>\n",
       "      <td>29.6</td>\n",
       "      <td>1.8</td>\n",
       "      <td>0.15</td>\n",
       "      <td>0.13</td>\n",
       "      <td>2018-08-08 02:00:00</td>\n",
       "    </tr>\n",
       "    <tr>\n",
       "      <th>399685</th>\n",
       "      <td>Banqiao</td>\n",
       "      <td>7.0</td>\n",
       "      <td>29.3</td>\n",
       "      <td>1.9</td>\n",
       "      <td>0.15</td>\n",
       "      <td>0.15</td>\n",
       "      <td>2018-08-08 03:00:00</td>\n",
       "    </tr>\n",
       "    <tr>\n",
       "      <th>399761</th>\n",
       "      <td>Banqiao</td>\n",
       "      <td>4.0</td>\n",
       "      <td>28.9</td>\n",
       "      <td>1.9</td>\n",
       "      <td>0.15</td>\n",
       "      <td>0.16</td>\n",
       "      <td>2018-08-08 04:00:00</td>\n",
       "    </tr>\n",
       "    <tr>\n",
       "      <th>...</th>\n",
       "      <td>...</td>\n",
       "      <td>...</td>\n",
       "      <td>...</td>\n",
       "      <td>...</td>\n",
       "      <td>...</td>\n",
       "      <td>...</td>\n",
       "      <td>...</td>\n",
       "    </tr>\n",
       "    <tr>\n",
       "      <th>665381</th>\n",
       "      <td>Banqiao</td>\n",
       "      <td>6.0</td>\n",
       "      <td>16.5</td>\n",
       "      <td>1.9</td>\n",
       "      <td>0.36</td>\n",
       "      <td>0.08</td>\n",
       "      <td>2018-12-31 19:00:00</td>\n",
       "    </tr>\n",
       "    <tr>\n",
       "      <th>665457</th>\n",
       "      <td>Banqiao</td>\n",
       "      <td>9.0</td>\n",
       "      <td>16.5</td>\n",
       "      <td>1.9</td>\n",
       "      <td>0.33</td>\n",
       "      <td>0.07</td>\n",
       "      <td>2018-12-31 20:00:00</td>\n",
       "    </tr>\n",
       "    <tr>\n",
       "      <th>665533</th>\n",
       "      <td>Banqiao</td>\n",
       "      <td>10.0</td>\n",
       "      <td>16.6</td>\n",
       "      <td>1.9</td>\n",
       "      <td>0.32</td>\n",
       "      <td>0.08</td>\n",
       "      <td>2018-12-31 21:00:00</td>\n",
       "    </tr>\n",
       "    <tr>\n",
       "      <th>665609</th>\n",
       "      <td>Banqiao</td>\n",
       "      <td>4.0</td>\n",
       "      <td>16.6</td>\n",
       "      <td>1.9</td>\n",
       "      <td>0.34</td>\n",
       "      <td>0.08</td>\n",
       "      <td>2018-12-31 22:00:00</td>\n",
       "    </tr>\n",
       "    <tr>\n",
       "      <th>665685</th>\n",
       "      <td>Banqiao</td>\n",
       "      <td>4.0</td>\n",
       "      <td>16.6</td>\n",
       "      <td>1.9</td>\n",
       "      <td>0.31</td>\n",
       "      <td>0.07</td>\n",
       "      <td>2018-12-31 23:00:00</td>\n",
       "    </tr>\n",
       "  </tbody>\n",
       "</table>\n",
       "<p>3504 rows × 7 columns</p>\n",
       "</div>"
      ],
      "text/plain": [
       "       siteengname  pm25  ambtemp  ch4    co  nmhc            readtime\n",
       "399457     Banqiao   9.0     29.8  1.8  0.18  0.05 2018-08-08 00:00:00\n",
       "399533     Banqiao   7.0     29.8  1.8  0.15  0.07 2018-08-08 01:00:00\n",
       "399609     Banqiao   7.0     29.6  1.8  0.15  0.13 2018-08-08 02:00:00\n",
       "399685     Banqiao   7.0     29.3  1.9  0.15  0.15 2018-08-08 03:00:00\n",
       "399761     Banqiao   4.0     28.9  1.9  0.15  0.16 2018-08-08 04:00:00\n",
       "...            ...   ...      ...  ...   ...   ...                 ...\n",
       "665381     Banqiao   6.0     16.5  1.9  0.36  0.08 2018-12-31 19:00:00\n",
       "665457     Banqiao   9.0     16.5  1.9  0.33  0.07 2018-12-31 20:00:00\n",
       "665533     Banqiao  10.0     16.6  1.9  0.32  0.08 2018-12-31 21:00:00\n",
       "665609     Banqiao   4.0     16.6  1.9  0.34  0.08 2018-12-31 22:00:00\n",
       "665685     Banqiao   4.0     16.6  1.9  0.31  0.07 2018-12-31 23:00:00\n",
       "\n",
       "[3504 rows x 7 columns]"
      ]
     },
     "execution_count": 167,
     "metadata": {},
     "output_type": "execute_result"
    }
   ],
   "source": [
    "train_split = 0.6\n",
    "\n",
    "test_data = pm25_cailiao.iloc[int(len(pm25_cailiao)*train_split):,:]\n",
    "print(f\"All data length:{len(pm25_cailiao)} \\nTrain data length:{len(test_data)}\")\n",
    "# test_data.tail()"
   ]
  },
  {
   "cell_type": "code",
   "execution_count": 162,
   "metadata": {},
   "outputs": [
    {
     "name": "stderr",
     "output_type": "stream",
     "text": [
      "C:\\Users\\arasyidi\\AppData\\Local\\Temp\\ipykernel_30480\\1743648032.py:9: SettingWithCopyWarning: \n",
      "A value is trying to be set on a copy of a slice from a DataFrame.\n",
      "Try using .loc[row_indexer,col_indexer] = value instead\n",
      "\n",
      "See the caveats in the documentation: https://pandas.pydata.org/pandas-docs/stable/user_guide/indexing.html#returning-a-view-versus-a-copy\n",
      "  test_data[normalized_column_name] = (test_data[column] - test_data[column].min()) / (test_data[column].max() - test_data[column].min())\n",
      "C:\\Users\\arasyidi\\AppData\\Local\\Temp\\ipykernel_30480\\1743648032.py:9: SettingWithCopyWarning: \n",
      "A value is trying to be set on a copy of a slice from a DataFrame.\n",
      "Try using .loc[row_indexer,col_indexer] = value instead\n",
      "\n",
      "See the caveats in the documentation: https://pandas.pydata.org/pandas-docs/stable/user_guide/indexing.html#returning-a-view-versus-a-copy\n",
      "  test_data[normalized_column_name] = (test_data[column] - test_data[column].min()) / (test_data[column].max() - test_data[column].min())\n",
      "C:\\Users\\arasyidi\\AppData\\Local\\Temp\\ipykernel_30480\\1743648032.py:9: SettingWithCopyWarning: \n",
      "A value is trying to be set on a copy of a slice from a DataFrame.\n",
      "Try using .loc[row_indexer,col_indexer] = value instead\n",
      "\n",
      "See the caveats in the documentation: https://pandas.pydata.org/pandas-docs/stable/user_guide/indexing.html#returning-a-view-versus-a-copy\n",
      "  test_data[normalized_column_name] = (test_data[column] - test_data[column].min()) / (test_data[column].max() - test_data[column].min())\n",
      "C:\\Users\\arasyidi\\AppData\\Local\\Temp\\ipykernel_30480\\1743648032.py:9: SettingWithCopyWarning: \n",
      "A value is trying to be set on a copy of a slice from a DataFrame.\n",
      "Try using .loc[row_indexer,col_indexer] = value instead\n",
      "\n",
      "See the caveats in the documentation: https://pandas.pydata.org/pandas-docs/stable/user_guide/indexing.html#returning-a-view-versus-a-copy\n",
      "  test_data[normalized_column_name] = (test_data[column] - test_data[column].min()) / (test_data[column].max() - test_data[column].min())\n",
      "C:\\Users\\arasyidi\\AppData\\Local\\Temp\\ipykernel_30480\\1743648032.py:9: SettingWithCopyWarning: \n",
      "A value is trying to be set on a copy of a slice from a DataFrame.\n",
      "Try using .loc[row_indexer,col_indexer] = value instead\n",
      "\n",
      "See the caveats in the documentation: https://pandas.pydata.org/pandas-docs/stable/user_guide/indexing.html#returning-a-view-versus-a-copy\n",
      "  test_data[normalized_column_name] = (test_data[column] - test_data[column].min()) / (test_data[column].max() - test_data[column].min())\n"
     ]
    }
   ],
   "source": [
    "# normalization\n",
    "# test_data.loc[:, 'pm25_n'] = (test_data['pm25'] - min_pm) / (max_pm- min_pm)\n",
    "\n",
    "# Calculate the normalized columns and create new columns with them\n",
    "normalized_columns = ['pm25', 'ambtemp', 'ch4', 'co', 'nmhc']\n",
    "\n",
    "for column in normalized_columns:\n",
    "    normalized_column_name = column + '_normalized'\n",
    "    test_data[normalized_column_name] = (test_data[column] - test_data[column].min()) / (test_data[column].max() - test_data[column].min())"
   ]
  },
  {
   "cell_type": "code",
   "execution_count": 163,
   "metadata": {},
   "outputs": [],
   "source": [
    "batch_size = 16\n",
    "dataset = MarketDataset(test_data, history_len=history_len)\n",
    "data_loader = DataLoader(dataset, batch_size=batch_size, shuffle=False)"
   ]
  },
  {
   "cell_type": "code",
   "execution_count": 164,
   "metadata": {},
   "outputs": [
    {
     "data": {
      "application/vnd.jupyter.widget-view+json": {
       "model_id": "323ae82bb78d4b63b7e5e00159ea9c40",
       "version_major": 2,
       "version_minor": 0
      },
      "text/plain": [
       "  0%|          | 0/216 [00:00<?, ?it/s]"
      ]
     },
     "metadata": {},
     "output_type": "display_data"
    },
    {
     "name": "stdout",
     "output_type": "stream",
     "text": [
      "(3456, 1)\n"
     ]
    },
    {
     "data": {
      "text/html": [
       "<div>\n",
       "<style scoped>\n",
       "    .dataframe tbody tr th:only-of-type {\n",
       "        vertical-align: middle;\n",
       "    }\n",
       "\n",
       "    .dataframe tbody tr th {\n",
       "        vertical-align: top;\n",
       "    }\n",
       "\n",
       "    .dataframe thead th {\n",
       "        text-align: right;\n",
       "    }\n",
       "</style>\n",
       "<table border=\"1\" class=\"dataframe\">\n",
       "  <thead>\n",
       "    <tr style=\"text-align: right;\">\n",
       "      <th></th>\n",
       "      <th>Close</th>\n",
       "    </tr>\n",
       "  </thead>\n",
       "  <tbody>\n",
       "    <tr>\n",
       "      <th>0</th>\n",
       "      <td>NaN</td>\n",
       "    </tr>\n",
       "    <tr>\n",
       "      <th>1</th>\n",
       "      <td>NaN</td>\n",
       "    </tr>\n",
       "    <tr>\n",
       "      <th>2</th>\n",
       "      <td>NaN</td>\n",
       "    </tr>\n",
       "    <tr>\n",
       "      <th>3</th>\n",
       "      <td>NaN</td>\n",
       "    </tr>\n",
       "    <tr>\n",
       "      <th>4</th>\n",
       "      <td>NaN</td>\n",
       "    </tr>\n",
       "  </tbody>\n",
       "</table>\n",
       "</div>"
      ],
      "text/plain": [
       "   Close\n",
       "0    NaN\n",
       "1    NaN\n",
       "2    NaN\n",
       "3    NaN\n",
       "4    NaN"
      ]
     },
     "execution_count": 164,
     "metadata": {},
     "output_type": "execute_result"
    }
   ],
   "source": [
    "for i, batch in tqdm(enumerate(data_loader, start=1),leave=False, total=len(data_loader)):\n",
    "            \n",
    "    X, Y = batch\n",
    "    Y_pred = model(X).detach().numpy()\n",
    "    if i == 1:\n",
    "        predictions = Y_pred\n",
    "    else:\n",
    "        predictions = np.concatenate((predictions, Y_pred), axis=0)\n",
    "\n",
    "min_pm = train_data['pm25'].min()\n",
    "max_pm = train_data['pm25'].max()\n",
    "\n",
    "#predictions[:, 0:4] = predictions[:, 0:4] * (max_pm - min_pm) + min_pm\n",
    "#predictions[:, 4] = predictions[:, 4] * (max_volume - min_volume) + min_volume\n",
    "predictions = predictions * (max_pm - min_pm) + min_pm\n",
    "\n",
    "#columns = ['Open', 'High', 'Low', 'Close', 'Volume']\n",
    "columns = ['Close']\n",
    "predictions = pd.DataFrame(predictions, columns=columns)\n",
    "print(predictions.shape)\n",
    "predictions.head()"
   ]
  },
  {
   "cell_type": "code",
   "execution_count": 131,
   "metadata": {},
   "outputs": [
    {
     "name": "stdout",
     "output_type": "stream",
     "text": [
      "(665760, 31)\n",
      "(3456, 1)\n"
     ]
    }
   ],
   "source": [
    "print(data.shape)\n",
    "print(predictions.shape)"
   ]
  },
  {
   "cell_type": "code",
   "execution_count": null,
   "metadata": {},
   "outputs": [],
   "source": []
  }
 ],
 "metadata": {
  "kernelspec": {
   "display_name": "Python 3",
   "language": "python",
   "name": "python3"
  },
  "language_info": {
   "codemirror_mode": {
    "name": "ipython",
    "version": 3
   },
   "file_extension": ".py",
   "mimetype": "text/x-python",
   "name": "python",
   "nbconvert_exporter": "python",
   "pygments_lexer": "ipython3",
   "version": "3.11.4"
  },
  "orig_nbformat": 4
 },
 "nbformat": 4,
 "nbformat_minor": 2
}
