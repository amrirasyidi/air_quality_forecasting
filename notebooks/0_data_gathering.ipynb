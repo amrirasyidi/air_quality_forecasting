{
 "cells": [
  {
   "cell_type": "code",
   "execution_count": 1,
   "metadata": {},
   "outputs": [],
   "source": [
    "import pandas as pd\n",
    "import openaq as aq\n",
    "import matplotlib.pyplot as plt"
   ]
  },
  {
   "cell_type": "markdown",
   "metadata": {},
   "source": [
    "# OpenAQ Python API"
   ]
  },
  {
   "cell_type": "code",
   "execution_count": 64,
   "metadata": {},
   "outputs": [],
   "source": [
    "api = aq.OpenAQ()\n",
    "# locations = []\n",
    "# for loc in [\"Jakarta\", \"Bogor\", \"Tangerang\", \"Depok\", \"Bekasi\"]:\n",
    "#     try:\n",
    "#         _ = api.locations(\n",
    "#             city=loc, \n",
    "#             # df=True\n",
    "#             )\n",
    "#         locations.append(_)\n",
    "#     except:\n",
    "#         print(f\"Error for {loc}\")"
   ]
  },
  {
   "cell_type": "code",
   "execution_count": 66,
   "metadata": {},
   "outputs": [
    {
     "ename": "ApiError",
     "evalue": "A bad request was made: 408",
     "output_type": "error",
     "traceback": [
      "\u001b[1;31m---------------------------------------------------------------------------\u001b[0m",
      "\u001b[1;31mApiError\u001b[0m                                  Traceback (most recent call last)",
      "Cell \u001b[1;32mIn[66], line 2\u001b[0m\n\u001b[0;32m      1\u001b[0m city \u001b[39m=\u001b[39m \u001b[39m\"\u001b[39m\u001b[39mJakarta\u001b[39m\u001b[39m\"\u001b[39m\n\u001b[1;32m----> 2\u001b[0m res \u001b[39m=\u001b[39m api\u001b[39m.\u001b[39;49mmeasurements(city\u001b[39m=\u001b[39;49mcity, parameter\u001b[39m=\u001b[39;49m\u001b[39m'\u001b[39;49m\u001b[39mpm25\u001b[39;49m\u001b[39m'\u001b[39;49m, limit\u001b[39m=\u001b[39;49m\u001b[39m10000\u001b[39;49m)\n",
      "File \u001b[1;32md:\\0_amri_local\\11_aqi_forecast\\conda_aqi_forecast\\Lib\\site-packages\\openaq\\decorators.py:87\u001b[0m, in \u001b[0;36mpandasize.<locals>.decorator.<locals>.decorated_function\u001b[1;34m(*args, **kwargs)\u001b[0m\n\u001b[0;32m     83\u001b[0m             data[\u001b[39m'\u001b[39m\u001b[39munit\u001b[39m\u001b[39m'\u001b[39m] \u001b[39m=\u001b[39m data[\u001b[39m'\u001b[39m\u001b[39munit\u001b[39m\u001b[39m'\u001b[39m]\u001b[39m.\u001b[39mapply(clean_encodings)\n\u001b[0;32m     85\u001b[0m         \u001b[39mreturn\u001b[39;00m data\n\u001b[1;32m---> 87\u001b[0m \u001b[39mreturn\u001b[39;00m f(\u001b[39m*\u001b[39;49margs, \u001b[39m*\u001b[39;49m\u001b[39m*\u001b[39;49mkwargs)\n",
      "File \u001b[1;32md:\\0_amri_local\\11_aqi_forecast\\conda_aqi_forecast\\Lib\\site-packages\\openaq\\__init__.py:418\u001b[0m, in \u001b[0;36mOpenAQ.measurements\u001b[1;34m(self, **kwargs)\u001b[0m\n\u001b[0;32m    337\u001b[0m \u001b[39m@pandasize\u001b[39m()\n\u001b[0;32m    338\u001b[0m \u001b[39mdef\u001b[39;00m \u001b[39mmeasurements\u001b[39m(\u001b[39mself\u001b[39m, \u001b[39m*\u001b[39m\u001b[39m*\u001b[39mkwargs):\n\u001b[0;32m    339\u001b[0m \u001b[39m    \u001b[39m\u001b[39m\"\"\"Provides data about individual measurements\u001b[39;00m\n\u001b[0;32m    340\u001b[0m \n\u001b[0;32m    341\u001b[0m \u001b[39m    :param city: Limit results by a certain city. Defaults to ``None``.\u001b[39;00m\n\u001b[1;32m   (...)\u001b[0m\n\u001b[0;32m    416\u001b[0m \u001b[39m    }\u001b[39;00m\n\u001b[0;32m    417\u001b[0m \u001b[39m    \"\"\"\u001b[39;00m\n\u001b[1;32m--> 418\u001b[0m     \u001b[39mreturn\u001b[39;00m \u001b[39mself\u001b[39;49m\u001b[39m.\u001b[39;49m_get(\u001b[39m'\u001b[39;49m\u001b[39mmeasurements\u001b[39;49m\u001b[39m'\u001b[39;49m, \u001b[39m*\u001b[39;49m\u001b[39m*\u001b[39;49mkwargs)\n",
      "File \u001b[1;32md:\\0_amri_local\\11_aqi_forecast\\conda_aqi_forecast\\Lib\\site-packages\\openaq\\__init__.py:84\u001b[0m, in \u001b[0;36mAPI._get\u001b[1;34m(self, url, **kwargs)\u001b[0m\n\u001b[0;32m     83\u001b[0m \u001b[39mdef\u001b[39;00m \u001b[39m_get\u001b[39m(\u001b[39mself\u001b[39m, url, \u001b[39m*\u001b[39m\u001b[39m*\u001b[39mkwargs):\n\u001b[1;32m---> 84\u001b[0m     \u001b[39mreturn\u001b[39;00m \u001b[39mself\u001b[39;49m\u001b[39m.\u001b[39;49m_send(url, \u001b[39m'\u001b[39;49m\u001b[39mGET\u001b[39;49m\u001b[39m'\u001b[39;49m, \u001b[39m*\u001b[39;49m\u001b[39m*\u001b[39;49mkwargs)\n",
      "File \u001b[1;32md:\\0_amri_local\\11_aqi_forecast\\conda_aqi_forecast\\Lib\\site-packages\\openaq\\__init__.py:71\u001b[0m, in \u001b[0;36mAPI._send\u001b[1;34m(self, endpoint, method, **kwargs)\u001b[0m\n\u001b[0;32m     68\u001b[0m     \u001b[39mraise\u001b[39;00m ApiError(\u001b[39m\"\u001b[39m\u001b[39mInvalid Method\u001b[39m\u001b[39m\"\u001b[39m)\n\u001b[0;32m     70\u001b[0m \u001b[39mif\u001b[39;00m resp\u001b[39m.\u001b[39mstatus_code \u001b[39m!=\u001b[39m \u001b[39m200\u001b[39m:\n\u001b[1;32m---> 71\u001b[0m     \u001b[39mraise\u001b[39;00m ApiError(\u001b[39m\"\u001b[39m\u001b[39mA bad request was made: \u001b[39m\u001b[39m{}\u001b[39;00m\u001b[39m\"\u001b[39m\u001b[39m.\u001b[39mformat(resp\u001b[39m.\u001b[39mstatus_code))\n\u001b[0;32m     73\u001b[0m res \u001b[39m=\u001b[39m resp\u001b[39m.\u001b[39mjson()\n\u001b[0;32m     75\u001b[0m \u001b[39m# Add a 'pages' attribute to the meta data\u001b[39;00m\n",
      "\u001b[1;31mApiError\u001b[0m: A bad request was made: 408"
     ]
    }
   ],
   "source": [
    "city = \"Jakarta\"\n",
    "res = api.measurements(city=city, parameter='pm25', limit=10000)"
   ]
  },
  {
   "cell_type": "code",
   "execution_count": 61,
   "metadata": {},
   "outputs": [],
   "source": [
    "temp = api.locations(\n",
    "            city=\"Jakarta\", \n",
    "            # df=True\n",
    "            )"
   ]
  },
  {
   "cell_type": "code",
   "execution_count": 62,
   "metadata": {},
   "outputs": [
    {
     "data": {
      "text/plain": [
       "['US Diplomatic Post: Jakarta Central']"
      ]
     },
     "execution_count": 62,
     "metadata": {},
     "output_type": "execute_result"
    }
   ],
   "source": [
    "temp[1]['results'][0]['locations']"
   ]
  },
  {
   "cell_type": "code",
   "execution_count": 63,
   "metadata": {},
   "outputs": [
    {
     "data": {
      "text/html": [
       "<div>\n",
       "<style scoped>\n",
       "    .dataframe tbody tr th:only-of-type {\n",
       "        vertical-align: middle;\n",
       "    }\n",
       "\n",
       "    .dataframe tbody tr th {\n",
       "        vertical-align: top;\n",
       "    }\n",
       "\n",
       "    .dataframe thead th {\n",
       "        text-align: right;\n",
       "    }\n",
       "</style>\n",
       "<table border=\"1\" class=\"dataframe\">\n",
       "  <thead>\n",
       "    <tr style=\"text-align: right;\">\n",
       "      <th></th>\n",
       "      <th>id</th>\n",
       "      <th>country</th>\n",
       "      <th>city</th>\n",
       "      <th>cities</th>\n",
       "      <th>location</th>\n",
       "      <th>locations</th>\n",
       "      <th>sourceName</th>\n",
       "      <th>sourceNames</th>\n",
       "      <th>sourceType</th>\n",
       "      <th>sourceTypes</th>\n",
       "      <th>firstUpdated</th>\n",
       "      <th>lastUpdated</th>\n",
       "      <th>parameters</th>\n",
       "      <th>countsByMeasurement</th>\n",
       "      <th>count</th>\n",
       "      <th>coordinates.latitude</th>\n",
       "      <th>coordinates.longitude</th>\n",
       "    </tr>\n",
       "  </thead>\n",
       "  <tbody>\n",
       "    <tr>\n",
       "      <th>0</th>\n",
       "      <td>8637</td>\n",
       "      <td>ID</td>\n",
       "      <td>Jakarta</td>\n",
       "      <td>[Jakarta]</td>\n",
       "      <td>US Diplomatic Post: Jakarta Central</td>\n",
       "      <td>[US Diplomatic Post: Jakarta Central]</td>\n",
       "      <td>StateAir_JakartaCentral</td>\n",
       "      <td>[StateAir_JakartaCentral]</td>\n",
       "      <td>government</td>\n",
       "      <td>[government]</td>\n",
       "      <td>2016-11-09T17:00:00+00:00</td>\n",
       "      <td>2023-08-15T04:00:00+00:00</td>\n",
       "      <td>[o3, pm25]</td>\n",
       "      <td>[{'parameter': 'o3 ppm', 'count': 4942}, {'par...</td>\n",
       "      <td>57029</td>\n",
       "      <td>-6.182536</td>\n",
       "      <td>106.834236</td>\n",
       "    </tr>\n",
       "  </tbody>\n",
       "</table>\n",
       "</div>"
      ],
      "text/plain": [
       "     id country     city     cities                             location  \\\n",
       "0  8637      ID  Jakarta  [Jakarta]  US Diplomatic Post: Jakarta Central   \n",
       "\n",
       "                               locations               sourceName  \\\n",
       "0  [US Diplomatic Post: Jakarta Central]  StateAir_JakartaCentral   \n",
       "\n",
       "                 sourceNames  sourceType   sourceTypes  \\\n",
       "0  [StateAir_JakartaCentral]  government  [government]   \n",
       "\n",
       "                firstUpdated                lastUpdated  parameters  \\\n",
       "0  2016-11-09T17:00:00+00:00  2023-08-15T04:00:00+00:00  [o3, pm25]   \n",
       "\n",
       "                                 countsByMeasurement  count  \\\n",
       "0  [{'parameter': 'o3 ppm', 'count': 4942}, {'par...  57029   \n",
       "\n",
       "   coordinates.latitude  coordinates.longitude  \n",
       "0             -6.182536             106.834236  "
      ]
     },
     "execution_count": 63,
     "metadata": {},
     "output_type": "execute_result"
    }
   ],
   "source": [
    "res = api.parameters(df=True)"
   ]
  },
  {
   "cell_type": "markdown",
   "metadata": {},
   "source": [
    "# OpenAQ API"
   ]
  },
  {
   "cell_type": "code",
   "execution_count": 49,
   "metadata": {},
   "outputs": [],
   "source": [
    "import requests\n",
    "\n",
    "url = \"https://api.openaq.org/v2/cities?limit=100000&offset=0&sort=asc&order_by=city\"\n",
    "\n",
    "headers = {\"accept\": \"application/json\"}\n",
    "\n",
    "response = requests.get(url, headers=headers)\n",
    "\n",
    "cities_df = pd.json_normalize(response.json()['results'])"
   ]
  },
  {
   "cell_type": "code",
   "execution_count": 52,
   "metadata": {},
   "outputs": [
    {
     "data": {
      "text/plain": [
       "array(['JP', 'US', 'CI', 'AE', 'GH', 'ES', 'TR', 'ET', 'AU', 'MK', 'MX',\n",
       "       'FR', 'HU', 'IS', 'RO', 'CA', 'IT', 'NO', 'ZA', 'DZ', 'CL', 'LT',\n",
       "       'BR', 'JO', 'NL', 'BE', 'TT', 'GB', 'NZ', 'TM', 'KZ', 'PL', 'PT',\n",
       "       'CH', 'DE', 'IQ', 'ML', 'ID', 'TH', 'SK', 'ME', 'CO', 'AT', 'CN',\n",
       "       'RS', 'KG', 'SE', 'XK', 'HR', 'LA', 'AR', 'PR', 'SI', 'FI', 'IN',\n",
       "       'MM', 'GN', 'IE', 'BD', 'SA', 'LU', 'TJ', 'CZ', 'GT', 'VN', 'DK',\n",
       "       'MD', 'NG', 'PK', 'AF', 'UG', 'NP', 'SD', 'KW', 'PE', 'AM', 'AZ',\n",
       "       'BA', 'BZ', 'CD', 'EG', 'KE', 'LK', 'MG', 'MY', 'QA', 'RW', 'TD',\n",
       "       'RU', 'IL', 'LV', 'CR', 'KR', 'UZ', 'MN', 'CY', 'GR', 'BG'],\n",
       "      dtype=object)"
      ]
     },
     "execution_count": 52,
     "metadata": {},
     "output_type": "execute_result"
    }
   ],
   "source": [
    "# cities_df[cities_df['country'=='ID']]\n",
    "cities_df['country'].unique()"
   ]
  },
  {
   "cell_type": "code",
   "execution_count": 34,
   "metadata": {},
   "outputs": [],
   "source": [
    "import requests\n",
    "\n",
    "openaq_api = \"230e041c1b6118b3473ae70fe59697c6818d5ee921b03b3e97e6982305f3e8e6\"\n",
    "res = requests.get(\"https://api.openaq.org/v2/locations/2178\", headers={\"X-API-Key\": f\"{openaq_api}\"})"
   ]
  },
  {
   "cell_type": "code",
   "execution_count": 39,
   "metadata": {},
   "outputs": [
    {
     "data": {
      "text/plain": [
       "{'meta': {'name': 'openaq-api',\n",
       "  'license': '',\n",
       "  'website': '/',\n",
       "  'page': 1,\n",
       "  'limit': 100,\n",
       "  'found': 1},\n",
       " 'results': [{'id': 2178,\n",
       "   'city': 'Albuquerque',\n",
       "   'name': 'Del Norte',\n",
       "   'entity': None,\n",
       "   'country': 'US',\n",
       "   'sources': None,\n",
       "   'isMobile': False,\n",
       "   'isAnalysis': None,\n",
       "   'parameters': [{'id': 7,\n",
       "     'unit': 'ppm',\n",
       "     'count': 46643,\n",
       "     'average': 0.008968450003273275,\n",
       "     'lastValue': 0.0011,\n",
       "     'parameter': 'no2',\n",
       "     'displayName': 'no2 ppm',\n",
       "     'lastUpdated': '2023-08-15T03:00:00+00:00',\n",
       "     'parameterId': 7,\n",
       "     'firstUpdated': '2016-03-06T19:00:00+00:00',\n",
       "     'manufacturers': None},\n",
       "    {'id': 35,\n",
       "     'unit': 'ppm',\n",
       "     'count': 2108,\n",
       "     'average': 0.00171620553359683,\n",
       "     'lastValue': 0.0,\n",
       "     'parameter': 'no',\n",
       "     'displayName': 'no ppm',\n",
       "     'lastUpdated': '2023-08-15T03:00:00+00:00',\n",
       "     'parameterId': 35,\n",
       "     'firstUpdated': '2023-03-30T05:00:00+00:00',\n",
       "     'manufacturers': None},\n",
       "    {'id': 19840,\n",
       "     'unit': 'ppm',\n",
       "     'count': 2108,\n",
       "     'average': 0.006603162055335933,\n",
       "     'lastValue': 0.001,\n",
       "     'parameter': 'nox',\n",
       "     'displayName': 'nox ppm',\n",
       "     'lastUpdated': '2023-08-15T03:00:00+00:00',\n",
       "     'parameterId': 19840,\n",
       "     'firstUpdated': '2023-03-30T05:00:00+00:00',\n",
       "     'manufacturers': None},\n",
       "    {'id': 1,\n",
       "     'unit': 'µg/m³',\n",
       "     'count': 49567,\n",
       "     'average': 20.768838201509727,\n",
       "     'lastValue': 12.0,\n",
       "     'parameter': 'pm10',\n",
       "     'displayName': 'pm10 µg/m³',\n",
       "     'lastUpdated': '2023-08-15T03:00:00+00:00',\n",
       "     'parameterId': 1,\n",
       "     'firstUpdated': '2016-03-06T19:00:00+00:00',\n",
       "     'manufacturers': None},\n",
       "    {'id': 10,\n",
       "     'unit': 'ppm',\n",
       "     'count': 48498,\n",
       "     'average': 0.03519449811003693,\n",
       "     'lastValue': 0.058,\n",
       "     'parameter': 'o3',\n",
       "     'displayName': 'o3 ppm',\n",
       "     'lastUpdated': '2023-08-15T03:00:00+00:00',\n",
       "     'parameterId': 10,\n",
       "     'firstUpdated': '2016-03-06T19:00:00+00:00',\n",
       "     'manufacturers': None},\n",
       "    {'id': 9,\n",
       "     'unit': 'ppm',\n",
       "     'count': 47578,\n",
       "     'average': 0.0004847196061643775,\n",
       "     'lastValue': 0.0,\n",
       "     'parameter': 'so2',\n",
       "     'displayName': 'so2 ppm',\n",
       "     'lastUpdated': '2023-08-15T03:00:00+00:00',\n",
       "     'parameterId': 9,\n",
       "     'firstUpdated': '2016-03-06T19:00:00+00:00',\n",
       "     'manufacturers': None},\n",
       "    {'id': 2,\n",
       "     'unit': 'µg/m³',\n",
       "     'count': 47210,\n",
       "     'average': 5.987498383411672,\n",
       "     'lastValue': 3.4,\n",
       "     'parameter': 'pm25',\n",
       "     'displayName': 'pm25 µg/m³',\n",
       "     'lastUpdated': '2023-08-15T03:00:00+00:00',\n",
       "     'parameterId': 2,\n",
       "     'firstUpdated': '2016-03-06T19:00:00+00:00',\n",
       "     'manufacturers': None},\n",
       "    {'id': 8,\n",
       "     'unit': 'ppm',\n",
       "     'count': 25845,\n",
       "     'average': 0.22307168602322786,\n",
       "     'lastValue': 0.2,\n",
       "     'parameter': 'co',\n",
       "     'displayName': 'co ppm',\n",
       "     'lastUpdated': '2023-08-15T03:00:00+00:00',\n",
       "     'parameterId': 8,\n",
       "     'firstUpdated': '2019-08-06T00:00:00+00:00',\n",
       "     'manufacturers': None}],\n",
       "   'sensorType': None,\n",
       "   'coordinates': {'latitude': 35.1353, 'longitude': -106.584702},\n",
       "   'lastUpdated': '2023-08-15T03:00:00+00:00',\n",
       "   'firstUpdated': '2016-03-06T19:00:00+00:00',\n",
       "   'measurements': 269557,\n",
       "   'bounds': [-106.584702, 35.1353, -106.584702, 35.1353],\n",
       "   'manufacturers': [{'modelName': 'Government Monitor',\n",
       "     'manufacturerName': 'Unknown Governmental Organization'}]}]}"
      ]
     },
     "execution_count": 39,
     "metadata": {},
     "output_type": "execute_result"
    }
   ],
   "source": [
    "res.json()"
   ]
  },
  {
   "cell_type": "code",
   "execution_count": 38,
   "metadata": {},
   "outputs": [
    {
     "data": {
      "text/html": [
       "<div>\n",
       "<style scoped>\n",
       "    .dataframe tbody tr th:only-of-type {\n",
       "        vertical-align: middle;\n",
       "    }\n",
       "\n",
       "    .dataframe tbody tr th {\n",
       "        vertical-align: top;\n",
       "    }\n",
       "\n",
       "    .dataframe thead th {\n",
       "        text-align: right;\n",
       "    }\n",
       "</style>\n",
       "<table border=\"1\" class=\"dataframe\">\n",
       "  <thead>\n",
       "    <tr style=\"text-align: right;\">\n",
       "      <th></th>\n",
       "      <th>id</th>\n",
       "      <th>city</th>\n",
       "      <th>name</th>\n",
       "      <th>entity</th>\n",
       "      <th>country</th>\n",
       "      <th>sources</th>\n",
       "      <th>isMobile</th>\n",
       "      <th>isAnalysis</th>\n",
       "      <th>parameters</th>\n",
       "      <th>sensorType</th>\n",
       "      <th>lastUpdated</th>\n",
       "      <th>firstUpdated</th>\n",
       "      <th>measurements</th>\n",
       "      <th>bounds</th>\n",
       "      <th>manufacturers</th>\n",
       "      <th>coordinates.latitude</th>\n",
       "      <th>coordinates.longitude</th>\n",
       "    </tr>\n",
       "  </thead>\n",
       "  <tbody>\n",
       "    <tr>\n",
       "      <th>0</th>\n",
       "      <td>2178</td>\n",
       "      <td>Albuquerque</td>\n",
       "      <td>Del Norte</td>\n",
       "      <td>None</td>\n",
       "      <td>US</td>\n",
       "      <td>None</td>\n",
       "      <td>False</td>\n",
       "      <td>None</td>\n",
       "      <td>[{'id': 7, 'unit': 'ppm', 'count': 46643, 'ave...</td>\n",
       "      <td>None</td>\n",
       "      <td>2023-08-15T03:00:00+00:00</td>\n",
       "      <td>2016-03-06T19:00:00+00:00</td>\n",
       "      <td>269557</td>\n",
       "      <td>[-106.584702, 35.1353, -106.584702, 35.1353]</td>\n",
       "      <td>[{'modelName': 'Government Monitor', 'manufact...</td>\n",
       "      <td>35.1353</td>\n",
       "      <td>-106.584702</td>\n",
       "    </tr>\n",
       "  </tbody>\n",
       "</table>\n",
       "</div>"
      ],
      "text/plain": [
       "     id         city       name entity country sources  isMobile isAnalysis  \\\n",
       "0  2178  Albuquerque  Del Norte   None      US    None     False       None   \n",
       "\n",
       "                                          parameters sensorType  \\\n",
       "0  [{'id': 7, 'unit': 'ppm', 'count': 46643, 'ave...       None   \n",
       "\n",
       "                 lastUpdated               firstUpdated  measurements  \\\n",
       "0  2023-08-15T03:00:00+00:00  2016-03-06T19:00:00+00:00        269557   \n",
       "\n",
       "                                         bounds  \\\n",
       "0  [-106.584702, 35.1353, -106.584702, 35.1353]   \n",
       "\n",
       "                                       manufacturers  coordinates.latitude  \\\n",
       "0  [{'modelName': 'Government Monitor', 'manufact...               35.1353   \n",
       "\n",
       "   coordinates.longitude  \n",
       "0            -106.584702  "
      ]
     },
     "execution_count": 38,
     "metadata": {},
     "output_type": "execute_result"
    }
   ],
   "source": [
    "df = pd.json_normalize(res.json()['results'])\n",
    "df.head()"
   ]
  },
  {
   "cell_type": "code",
   "execution_count": null,
   "metadata": {},
   "outputs": [],
   "source": []
  }
 ],
 "metadata": {
  "kernelspec": {
   "display_name": "Python 3",
   "language": "python",
   "name": "python3"
  },
  "language_info": {
   "codemirror_mode": {
    "name": "ipython",
    "version": 3
   },
   "file_extension": ".py",
   "mimetype": "text/x-python",
   "name": "python",
   "nbconvert_exporter": "python",
   "pygments_lexer": "ipython3",
   "version": "3.11.4"
  },
  "orig_nbformat": 4
 },
 "nbformat": 4,
 "nbformat_minor": 2
}
